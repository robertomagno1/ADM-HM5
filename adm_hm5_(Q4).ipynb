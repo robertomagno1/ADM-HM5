version https://git-lfs.github.com/spec/v1
oid sha256:30a069fac60882c05fcae67dee69ba0ad4804cce392eaf32c22f46e2bcce131d
size 559123
