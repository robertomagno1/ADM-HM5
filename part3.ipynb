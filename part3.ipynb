{
 "cells": [
  {
   "cell_type": "markdown",
   "metadata": {},
   "source": [
    "3. Finding Best Routes (Q3)\n",
    "Whenever you plan to fly to a specific city, your goal is to find the most efficient and fastest flight to reach your destination. In the system you are designing, the best route is defined as the one that minimizes the total distance flown to the greatest extent possible.\n",
    "\n",
    "In this task, you need to implement a function that, given an origin and destination city, determines the best possible route between them. To simplify, the focus will be limited to flights operating on a specific day.\n",
    "Note: Each city may have multiple airports; in such cases, the function should calculate the best route for every possible airport pair between the two cities. For example, if city \n",
    "A\n",
    " has airports \n",
    "a\n",
    "1\n",
    ",\n",
    "a\n",
    "2\n",
    " and city B has \n",
    "b\n",
    "1\n",
    ",\n",
    "b\n",
    "2\n",
    ", the function should compute the best routes for \n",
    "a\n",
    "1\n",
    "→\n",
    "b\n",
    "1\n",
    ", \n",
    "a\n",
    "1\n",
    "→\n",
    "b\n",
    "2\n",
    ", \n",
    "a\n",
    "2\n",
    "→\n",
    "b\n",
    "1\n",
    " and \n",
    "a\n",
    "2\n",
    "→\n",
    "b\n",
    "2\n",
    ". If it’s not possible to travel from one airport in the origin city to another airport in the destination city on that date, you must report it as well.\n",
    "\n",
    "The function takes the following inputs:\n",
    "\n",
    "Flights network\n",
    "Origin city name\n",
    "Destination city name\n",
    "Considered Date (in yyyy-mm-dd format)\n",
    "The function output:\n",
    "\n",
    "A table with three columns: 'Origin_city_airport', 'Destination_city_airport', and the 'Best_route'.\n",
    "Note: In the \"Best_route\" column, we expect a list of airport names connected by \n",
    "→\n",
    ", showing the order in which they are to be visited during the optimal route. If no such route exists, the entry should display \"No route found.\"\n",
    "\n"
   ]
  },
  {
   "cell_type": "code",
   "execution_count": 1,
   "metadata": {},
   "outputs": [],
   "source": [
    "import pandas as pd\n",
    "df = pd.read_csv('FinalDatasetForReal.csv')"
   ]
  },
  {
   "cell_type": "code",
   "execution_count": 2,
   "metadata": {},
   "outputs": [],
   "source": [
    "df = df.drop(['Unnamed: 0'], axis=1)"
   ]
  },
  {
   "cell_type": "code",
   "execution_count": 3,
   "metadata": {},
   "outputs": [
    {
     "data": {
      "text/html": [
       "<div>\n",
       "<style scoped>\n",
       "    .dataframe tbody tr th:only-of-type {\n",
       "        vertical-align: middle;\n",
       "    }\n",
       "\n",
       "    .dataframe tbody tr th {\n",
       "        vertical-align: top;\n",
       "    }\n",
       "\n",
       "    .dataframe thead th {\n",
       "        text-align: right;\n",
       "    }\n",
       "</style>\n",
       "<table border=\"1\" class=\"dataframe\">\n",
       "  <thead>\n",
       "    <tr style=\"text-align: right;\">\n",
       "      <th></th>\n",
       "      <th>Origin_airport</th>\n",
       "      <th>Destination_airport</th>\n",
       "      <th>Origin_city</th>\n",
       "      <th>Destination_city</th>\n",
       "      <th>Passengers</th>\n",
       "      <th>Seats</th>\n",
       "      <th>Flights</th>\n",
       "      <th>Distance</th>\n",
       "      <th>Fly_date</th>\n",
       "      <th>Origin_population</th>\n",
       "      <th>Destination_population</th>\n",
       "      <th>Org_airport_lat</th>\n",
       "      <th>Org_airport_long</th>\n",
       "      <th>Dest_airport_lat</th>\n",
       "      <th>Dest_airport_long</th>\n",
       "    </tr>\n",
       "  </thead>\n",
       "  <tbody>\n",
       "    <tr>\n",
       "      <th>0</th>\n",
       "      <td>MHK</td>\n",
       "      <td>AMW</td>\n",
       "      <td>Manhattan, KS</td>\n",
       "      <td>Ames, IA</td>\n",
       "      <td>21</td>\n",
       "      <td>30</td>\n",
       "      <td>1</td>\n",
       "      <td>254</td>\n",
       "      <td>2008-10-01</td>\n",
       "      <td>122049</td>\n",
       "      <td>86219</td>\n",
       "      <td>39.140999</td>\n",
       "      <td>-96.670799</td>\n",
       "      <td>41.990311</td>\n",
       "      <td>-93.622154</td>\n",
       "    </tr>\n",
       "    <tr>\n",
       "      <th>1</th>\n",
       "      <td>EUG</td>\n",
       "      <td>RDM</td>\n",
       "      <td>Eugene, OR</td>\n",
       "      <td>Bend, OR</td>\n",
       "      <td>41</td>\n",
       "      <td>396</td>\n",
       "      <td>22</td>\n",
       "      <td>103</td>\n",
       "      <td>1990-11-01</td>\n",
       "      <td>284093</td>\n",
       "      <td>76034</td>\n",
       "      <td>44.124599</td>\n",
       "      <td>-123.211998</td>\n",
       "      <td>44.254101</td>\n",
       "      <td>-121.150002</td>\n",
       "    </tr>\n",
       "    <tr>\n",
       "      <th>2</th>\n",
       "      <td>EUG</td>\n",
       "      <td>RDM</td>\n",
       "      <td>Eugene, OR</td>\n",
       "      <td>Bend, OR</td>\n",
       "      <td>88</td>\n",
       "      <td>342</td>\n",
       "      <td>19</td>\n",
       "      <td>103</td>\n",
       "      <td>1990-12-01</td>\n",
       "      <td>284093</td>\n",
       "      <td>76034</td>\n",
       "      <td>44.124599</td>\n",
       "      <td>-123.211998</td>\n",
       "      <td>44.254101</td>\n",
       "      <td>-121.150002</td>\n",
       "    </tr>\n",
       "    <tr>\n",
       "      <th>3</th>\n",
       "      <td>EUG</td>\n",
       "      <td>RDM</td>\n",
       "      <td>Eugene, OR</td>\n",
       "      <td>Bend, OR</td>\n",
       "      <td>11</td>\n",
       "      <td>72</td>\n",
       "      <td>4</td>\n",
       "      <td>103</td>\n",
       "      <td>1990-10-01</td>\n",
       "      <td>284093</td>\n",
       "      <td>76034</td>\n",
       "      <td>44.124599</td>\n",
       "      <td>-123.211998</td>\n",
       "      <td>44.254101</td>\n",
       "      <td>-121.150002</td>\n",
       "    </tr>\n",
       "    <tr>\n",
       "      <th>4</th>\n",
       "      <td>MFR</td>\n",
       "      <td>RDM</td>\n",
       "      <td>Medford, OR</td>\n",
       "      <td>Bend, OR</td>\n",
       "      <td>0</td>\n",
       "      <td>18</td>\n",
       "      <td>1</td>\n",
       "      <td>156</td>\n",
       "      <td>1990-02-01</td>\n",
       "      <td>147300</td>\n",
       "      <td>76034</td>\n",
       "      <td>42.374199</td>\n",
       "      <td>-122.873001</td>\n",
       "      <td>44.254101</td>\n",
       "      <td>-121.150002</td>\n",
       "    </tr>\n",
       "  </tbody>\n",
       "</table>\n",
       "</div>"
      ],
      "text/plain": [
       "  Origin_airport Destination_airport    Origin_city Destination_city  \\\n",
       "0            MHK                 AMW  Manhattan, KS         Ames, IA   \n",
       "1            EUG                 RDM     Eugene, OR         Bend, OR   \n",
       "2            EUG                 RDM     Eugene, OR         Bend, OR   \n",
       "3            EUG                 RDM     Eugene, OR         Bend, OR   \n",
       "4            MFR                 RDM    Medford, OR         Bend, OR   \n",
       "\n",
       "   Passengers  Seats  Flights  Distance    Fly_date  Origin_population  \\\n",
       "0          21     30        1       254  2008-10-01             122049   \n",
       "1          41    396       22       103  1990-11-01             284093   \n",
       "2          88    342       19       103  1990-12-01             284093   \n",
       "3          11     72        4       103  1990-10-01             284093   \n",
       "4           0     18        1       156  1990-02-01             147300   \n",
       "\n",
       "   Destination_population  Org_airport_lat  Org_airport_long  \\\n",
       "0                   86219        39.140999        -96.670799   \n",
       "1                   76034        44.124599       -123.211998   \n",
       "2                   76034        44.124599       -123.211998   \n",
       "3                   76034        44.124599       -123.211998   \n",
       "4                   76034        42.374199       -122.873001   \n",
       "\n",
       "   Dest_airport_lat  Dest_airport_long  \n",
       "0         41.990311         -93.622154  \n",
       "1         44.254101        -121.150002  \n",
       "2         44.254101        -121.150002  \n",
       "3         44.254101        -121.150002  \n",
       "4         44.254101        -121.150002  "
      ]
     },
     "execution_count": 3,
     "metadata": {},
     "output_type": "execute_result"
    }
   ],
   "source": [
    "df.head()"
   ]
  },
  {
   "cell_type": "code",
   "execution_count": 6,
   "metadata": {},
   "outputs": [
    {
     "name": "stdout",
     "output_type": "stream",
     "text": [
      "Number of nodes (airports): 727\n",
      "Number of edges (flights): 36719\n",
      "Sample Edges with Weights:\n",
      "('MHK', 'AMW'): Distance = 254\n",
      "('EUG', 'RDM'): Distance = 103\n",
      "('MFR', 'RDM'): Distance = 156\n",
      "('SEA', 'RDM'): Distance = 228\n",
      "('PDX', 'RDM'): Distance = 116\n"
     ]
    }
   ],
   "source": [
    "from part5_func import Graph_weights # same function we used for number 5 but with Weighted Edges and Directed Support\n",
    "\n",
    "\n",
    "# Extract edges (origin, destination, weight) from the dataset\n",
    "edges = [\n",
    "    (row['Origin_airport'], row['Destination_airport'], row['Distance'])\n",
    "    for _, row in df.iterrows()\n",
    "    if not pd.isnull(row['Distance'])  # Ensure the distance is not null\n",
    "]\n",
    "\n",
    "airport_graph = Graph_weights(edges=edges, directed=True) # Initializzation\n",
    "\n",
    "# Print graph properties for verification\n",
    "print(f\"Number of nodes (airports): {len(airport_graph.nodes)}\")\n",
    "print(f\"Number of edges (flights): {len(airport_graph.weights)}\")\n",
    "\n",
    "# Display a sample of edges with weights\n",
    "print(\"Sample Edges with Weights:\")\n",
    "for edge, weight in list(airport_graph.weights.items())[:5]:\n",
    "    print(f\"{edge}: Distance = {weight}\")\n"
   ]
  },
  {
   "cell_type": "markdown",
   "metadata": {},
   "source": [
    "While Checking the first functions of the algorithm I noticied a mistake: some nodes appears as neighbor in graph adjacency list but is missing from distances dictionary while calculating betweeness centrality; it return this error:\n",
    "\n",
    "```\n",
    "Cell In[21], line 55\n",
    "     52 weight = weights.get((current_node, neighbor), float('inf'))  # Use weight from dictionary\n",
    "     53 distance = current_distance + weight\n",
    "---> 55 if distance < distances[neighbor]:\n",
    "     56     distances[neighbor] = distance\n",
    "     57     previous_nodes[neighbor] = current_node\n",
    "\n",
    "KeyError: 'ULS'\n",
    "```"
   ]
  },
  {
   "cell_type": "code",
   "execution_count": 26,
   "metadata": {},
   "outputs": [
    {
     "name": "stdout",
     "output_type": "stream",
     "text": [
      "[ERROR] Dangling nodes detected in the graph: {'MUT', 'RAC', 'CFV', 'MWC', 'NGP', 'UXJ', 'WVL', 'LJY', 'MEJ', 'DWH', 'FCM', 'TVI', 'IDI', 'AYS', 'SME', 'DTN', 'OGB', 'ESN', 'TDW', 'HUA', 'STK', 'NZJ', 'OLU', 'O85', 'JWN', 'FAM', 'MPS', 'SNL', 'RSN', 'RBL', 'PRZ', 'SNS', 'RVS', 'AWX', 'JCC', 'STE', 'XWL', 'ZXX', 'ULS', 'PHD', 'ARB', 'AL3', 'BYI'}\n"
     ]
    }
   ],
   "source": [
    "# Validate graph consistency\n",
    "dangling_nodes = set()\n",
    "\n",
    "for node, neighbors in airport_graph.graph.items():\n",
    "    for neighbor in neighbors:\n",
    "        if neighbor not in airport_graph.graph:\n",
    "            dangling_nodes.add(neighbor)\n",
    "\n",
    "if dangling_nodes:\n",
    "    print(f\"[ERROR] Dangling nodes detected in the graph: {dangling_nodes}\")\n",
    "else:\n",
    "    print(\"[DEBUG] Graph integrity verified. No dangling nodes found.\")\n"
   ]
  },
  {
   "cell_type": "markdown",
   "metadata": {},
   "source": [
    "This confirms our hypothesis above, next step:\n",
    "- Removed neighbors that don't exist in the graph\n",
    "- Remove Orphan Node\n",
    "- Removed edge weights associated with invalid nodes"
   ]
  },
  {
   "cell_type": "code",
   "execution_count": 27,
   "metadata": {},
   "outputs": [
    {
     "name": "stdout",
     "output_type": "stream",
     "text": [
      "[ERROR] Still dangling nodes: {'FVS', 'MIW'}\n"
     ]
    }
   ],
   "source": [
    "def remove_dangling_nodes(graph, weights):\n",
    "    \"\"\"\n",
    "    Remove dangling nodes from the graph and ensure all edges have valid references.\n",
    "\n",
    "    Args:\n",
    "        graph (dict): Adjacency list representation of the graph.\n",
    "        weights (dict): Dictionary with edge weights.\n",
    "\n",
    "    Returns:\n",
    "        tuple: (cleaned_graph, cleaned_weights)\n",
    "    \"\"\"\n",
    "    valid_nodes = set(graph.keys())  # Nodes present in the graph\n",
    "\n",
    "    # Validate neighbors in the adjacency list\n",
    "    for node in list(graph.keys()):\n",
    "        graph[node] = {neighbor for neighbor in graph[node] if neighbor in valid_nodes}\n",
    "        \n",
    "        # If the node has no valid neighbors, remove it\n",
    "        if not graph[node]:\n",
    "            del graph[node]\n",
    "\n",
    "    # Validate weights\n",
    "    cleaned_weights = {\n",
    "        (u, v): w for (u, v), w in weights.items()\n",
    "        if u in graph and v in graph[u]\n",
    "    }\n",
    "\n",
    "    return graph, cleaned_weights\n",
    "\n",
    "\n",
    "# Clean the graph and weights\n",
    "airport_graph.graph, airport_graph.weights = remove_dangling_nodes(\n",
    "    airport_graph.graph,\n",
    "    airport_graph.weights\n",
    ")\n",
    "\n",
    "# Validate again\n",
    "dangling_nodes = set()\n",
    "for node, neighbors in airport_graph.graph.items():\n",
    "    for neighbor in neighbors:\n",
    "        if neighbor not in airport_graph.graph:\n",
    "            dangling_nodes.add(neighbor)\n",
    "\n",
    "if dangling_nodes:\n",
    "    print(f\"[ERROR] Still dangling nodes: {dangling_nodes}\")\n",
    "else:\n",
    "    print(\"[DEBUG] Dangling nodes successfully removed. Graph is clean!\")\n"
   ]
  },
  {
   "cell_type": "code",
   "execution_count": 39,
   "metadata": {},
   "outputs": [
    {
     "name": "stdout",
     "output_type": "stream",
     "text": [
      "[DEBUG] Details about dangling nodes:\n",
      "Node: FVS is not in the graph but detected as dangling.\n",
      "Node: MIW is not in the graph but detected as dangling.\n"
     ]
    }
   ],
   "source": [
    "# Investigate dangling nodes\n",
    "print(\"[DEBUG] Details about dangling nodes:\")\n",
    "for node in ['FVS', 'MIW']:\n",
    "    if node in airport_graph.graph:\n",
    "        print(f\"Node: {node}\")\n",
    "        print(f\"  Neighbors: {airport_graph.graph[node]}\")\n",
    "    else:\n",
    "        print(f\"Node: {node} is not in the graph but detected as dangling.\")\n",
    "\n",
    "# Check if these nodes exist in weights\n",
    "for node in ['FVS', 'MIW']:\n",
    "    for edge, weight in airport_graph.weights.items():\n",
    "        if node in edge:\n",
    "            print(f\"Edge with dangling node found in weights: {edge} -> {weight}\")\n",
    "# "
   ]
  },
  {
   "cell_type": "markdown",
   "metadata": {},
   "source": [
    "Sorry I cancelled output here but I didn't save copy of airport graph (I don't want to re run), so I am just gonna explain;\n",
    "\n",
    "In the cell above we validated that those nodes are not in graph adj list but exists in weights dictionary, the second part of the script returned the edges with our dangling nodes\n"
   ]
  },
  {
   "cell_type": "code",
   "execution_count": 40,
   "metadata": {},
   "outputs": [],
   "source": [
    "# We can now remove it\n",
    "invalid_edges = [('SLC', 'FVS'), ('SLN', 'MIW')]\n",
    "\n",
    "for edge in invalid_edges:\n",
    "    if edge in airport_graph.weights:\n",
    "        del airport_graph.weights[edge]\n",
    "    if (edge[1], edge[0]) in airport_graph.weights:\n",
    "        del airport_graph.weights[(edge[1], edge[0])]\n",
    "\n",
    "# Correctly remove"
   ]
  },
  {
   "cell_type": "markdown",
   "metadata": {},
   "source": [
    "Double Check"
   ]
  },
  {
   "cell_type": "code",
   "execution_count": 41,
   "metadata": {},
   "outputs": [
    {
     "name": "stdout",
     "output_type": "stream",
     "text": [
      "[DEBUG] Graph and weights validation successful. No dangling nodes or invalid edges detected.\n"
     ]
    }
   ],
   "source": [
    "# Final Validation of Graph and Weights\n",
    "dangling_nodes = set()\n",
    "for node, neighbors in airport_graph.graph.items():\n",
    "    for neighbor in neighbors:\n",
    "        if neighbor not in airport_graph.graph:\n",
    "            dangling_nodes.add(neighbor)\n",
    "\n",
    "# Verify weights consistency\n",
    "invalid_weights = [\n",
    "    edge for edge in airport_graph.weights.keys()\n",
    "    if edge[0] not in airport_graph.graph or edge[1] not in airport_graph.graph\n",
    "]\n",
    "\n",
    "if dangling_nodes:\n",
    "    print(f\"[ERROR] Dangling nodes still exist: {dangling_nodes}\")\n",
    "elif invalid_weights:\n",
    "    print(f\"[ERROR] Invalid edges still exist in weights: {invalid_weights}\")\n",
    "else:\n",
    "    print(\"[DEBUG] Graph and weights validation successful. No dangling nodes or invalid edges detected.\")\n"
   ]
  },
  {
   "cell_type": "markdown",
   "metadata": {},
   "source": [
    "Initially I was working on the full Dataset just to understand everything. Since from now one we are gonna filter only data we need doing all of this is not worth at all, we are just gonna deal with it in an easier but partial way (the second validation is not gonna perfomed, we are just gonna skip those in case) and u can find it in ```dijkstra_adj_list_weighted``` ."
   ]
  },
  {
   "cell_type": "markdown",
   "metadata": {},
   "source": [
    "### Back to the main part"
   ]
  },
  {
   "cell_type": "markdown",
   "metadata": {},
   "source": [
    "We choose those two cause it mean literally to fligh from one side to an other of the country:\n",
    "Manhattan is on north east of USA while Oregon is the the north west side"
   ]
  },
  {
   "cell_type": "code",
   "execution_count": null,
   "metadata": {},
   "outputs": [
    {
     "name": "stdout",
     "output_type": "stream",
     "text": [
      "[DEBUG] Filtered dataset contains 17272 flights on 2008-10-01.\n",
      "[DEBUG] Generated 1 airport pairs to evaluate.\n",
      "\n",
      "🔄 [DEBUG] Processing pair: MHK → RDM\n",
      "\n",
      "🔄 [DEBUG] Reconstructing path from 'MHK' to 'RDM'\n",
      "✅ [DEBUG] Path Found: MHK → MCI → SLC → RDM\n",
      "\n",
      "📝 [RESULT] Best Routes Between Cities:\n"
     ]
    },
    {
     "data": {
      "text/html": [
       "<div>\n",
       "<style scoped>\n",
       "    .dataframe tbody tr th:only-of-type {\n",
       "        vertical-align: middle;\n",
       "    }\n",
       "\n",
       "    .dataframe tbody tr th {\n",
       "        vertical-align: top;\n",
       "    }\n",
       "\n",
       "    .dataframe thead th {\n",
       "        text-align: right;\n",
       "    }\n",
       "</style>\n",
       "<table border=\"1\" class=\"dataframe\">\n",
       "  <thead>\n",
       "    <tr style=\"text-align: right;\">\n",
       "      <th></th>\n",
       "      <th>Origin_city_airport</th>\n",
       "      <th>Destination_city_airport</th>\n",
       "      <th>Best_route</th>\n",
       "      <th>Total_distance</th>\n",
       "    </tr>\n",
       "  </thead>\n",
       "  <tbody>\n",
       "    <tr>\n",
       "      <th>0</th>\n",
       "      <td>MHK</td>\n",
       "      <td>RDM</td>\n",
       "      <td>MHK → MCI → SLC → RDM</td>\n",
       "      <td>1550</td>\n",
       "    </tr>\n",
       "  </tbody>\n",
       "</table>\n",
       "</div>"
      ],
      "text/plain": [
       "  Origin_city_airport Destination_city_airport             Best_route  \\\n",
       "0                 MHK                      RDM  MHK → MCI → SLC → RDM   \n",
       "\n",
       "   Total_distance  \n",
       "0            1550  "
      ]
     },
     "execution_count": 98,
     "metadata": {},
     "output_type": "execute_result"
    }
   ],
   "source": [
    "from part5_func import *\n",
    "best_routes = compute_best_routes_between_cities(\n",
    "    df=df,\n",
    "    origin_city='Manhattan, KS',\n",
    "    destination_city='Bend, OR',\n",
    "    flight_date='2008-10-01'\n",
    ")\n",
    "\n",
    "print(\"\\n📝 [RESULT] Best Routes Between Cities:\")\n",
    "best_routes"
   ]
  },
  {
   "cell_type": "code",
   "execution_count": 104,
   "metadata": {},
   "outputs": [
    {
     "data": {
      "text/plain": [
       "'best_route_map_only.html'"
      ]
     },
     "execution_count": 104,
     "metadata": {},
     "output_type": "execute_result"
    }
   ],
   "source": [
    "from part5_func import plot_best_route_on_map\n",
    "\n",
    "best_route_map = plot_best_route_on_map(df, best_routes)\n",
    "\n",
    "map_file_path = 'best_route_map_only.html'\n",
    "best_route_map.save(map_file_path)\n",
    "map_file_path\n"
   ]
  }
 ],
 "metadata": {
  "kernelspec": {
   "display_name": "BasicPy",
   "language": "python",
   "name": "python3"
  },
  "language_info": {
   "codemirror_mode": {
    "name": "ipython",
    "version": 3
   },
   "file_extension": ".py",
   "mimetype": "text/x-python",
   "name": "python",
   "nbconvert_exporter": "python",
   "pygments_lexer": "ipython3",
   "version": "3.12.2"
  }
 },
 "nbformat": 4,
 "nbformat_minor": 2
}
