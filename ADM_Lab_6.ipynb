{
  "cells": [
    {
      "cell_type": "code",
      "source": [
        "!pip install pyspark\n",
        "from pyspark.sql import SparkSession\n",
        "from pyspark import SparkContext\n",
        "import re\n",
        "\n",
        "spark = SparkSession.builder.appName(\"Colab Spark UI\").config(\"spark.ui.port\", \"4050\").getOrCreate()\n",
        "!pip install pyngrok\n",
        "from pyngrok import ngrok"
      ],
      "metadata": {
        "colab": {
          "base_uri": "https://localhost:8080/"
        },
        "id": "xOaRoHUEWrK-",
        "outputId": "5da465cb-0ac4-4df0-e46c-f73852b05a7e"
      },
      "execution_count": null,
      "outputs": [
        {
          "output_type": "stream",
          "name": "stdout",
          "text": [
            "Requirement already satisfied: pyspark in /usr/local/lib/python3.10/dist-packages (3.5.3)\n",
            "Requirement already satisfied: py4j==0.10.9.7 in /usr/local/lib/python3.10/dist-packages (from pyspark) (0.10.9.7)\n",
            "Collecting pyngrok\n",
            "  Downloading pyngrok-7.2.1-py3-none-any.whl.metadata (8.3 kB)\n",
            "Requirement already satisfied: PyYAML>=5.1 in /usr/local/lib/python3.10/dist-packages (from pyngrok) (6.0.2)\n",
            "Downloading pyngrok-7.2.1-py3-none-any.whl (22 kB)\n",
            "Installing collected packages: pyngrok\n",
            "Successfully installed pyngrok-7.2.1\n"
          ]
        }
      ]
    },
    {
      "cell_type": "code",
      "source": [
        "# Start ngrok tunnel for port 4050 (Spark UI port)\n",
        "ngrok.set_auth_token(\"<INSERT YOUR AUTH TOKEN>\")\n",
        "ngrok_tunnel = ngrok.connect(4050)\n",
        "print(\"Spark UI is accessible at:\", ngrok_tunnel.public_url)"
      ],
      "metadata": {
        "colab": {
          "base_uri": "https://localhost:8080/"
        },
        "id": "b7KuzxwPWUmA",
        "outputId": "9ab1c9d1-b7c6-4758-beb6-59131df4735d"
      },
      "execution_count": null,
      "outputs": [
        {
          "output_type": "stream",
          "name": "stdout",
          "text": [
            "Spark UI is accessible at: https://2ca0-35-185-0-169.ngrok-free.app\n"
          ]
        }
      ]
    },
    {
      "cell_type": "code",
      "source": [
        "#https://dashboard.ngrok.com/signup\n",
        "#https://dashboard.ngrok.com/get-started/your-authtoken"
      ],
      "metadata": {
        "id": "TzoYB908WK2B"
      },
      "execution_count": null,
      "outputs": []
    },
    {
      "cell_type": "code",
      "source": [
        "!pip install gdown"
      ],
      "metadata": {
        "id": "oXgppD3L2WHb"
      },
      "execution_count": null,
      "outputs": []
    },
    {
      "cell_type": "code",
      "source": [
        "!gdown 1zHgvidy9FvhZvE68S0mXWkoF-hHMpiUL"
      ],
      "metadata": {
        "colab": {
          "base_uri": "https://localhost:8080/"
        },
        "id": "4j6xHa2RaTFZ",
        "outputId": "90ba5de8-dcc7-40fb-e43f-d244c020c26e"
      },
      "execution_count": null,
      "outputs": [
        {
          "output_type": "stream",
          "name": "stdout",
          "text": [
            "Downloading...\n",
            "From: https://drive.google.com/uc?id=1zHgvidy9FvhZvE68S0mXWkoF-hHMpiUL\n",
            "To: /content/The Project Gutenberg eBook of Le Morte D’Arthur, Volume I (of II), by Thomas Malory.html\n",
            "\r  0% 0.00/964k [00:00<?, ?B/s]\r100% 964k/964k [00:00<00:00, 409MB/s]\n"
          ]
        }
      ]
    },
    {
      "cell_type": "code",
      "source": [
        "from bs4 import BeautifulSoup\n",
        "\n",
        "with open('The Project Gutenberg eBook of Le Morte D’Arthur, Volume I (of II), by Thomas Malory.html', 'r') as f:\n",
        "  html_content = f.read()\n",
        "\n",
        "soup = BeautifulSoup(html_content, 'html.parser')"
      ],
      "metadata": {
        "id": "o8ALAaeTcFKZ"
      },
      "execution_count": null,
      "outputs": []
    },
    {
      "cell_type": "code",
      "source": [
        "max_chars = 1000\n",
        "\n",
        "chapters = soup.find_all('div', class_='chapter') #{\"class\": \"chapter\"}\n",
        "complete_text = \"\"\n",
        "cont = 0\n",
        "for i,chapter in enumerate(chapters[2:-1]):\n",
        "    proc_txt = chapter.get_text().replace(\"\\n\",\" \")[:max_chars].strip()\n",
        "    if \"BOOK \" == proc_txt[:5]: continue\n",
        "    proc_txt = re.sub(\" +\",\" \",re.split(r'\\.', proc_txt, 1)[1]).strip()\n",
        "    complete_text += proc_txt + \"\\n\"\n",
        "    cont+=1\n",
        "print(cont)"
      ],
      "metadata": {
        "colab": {
          "base_uri": "https://localhost:8080/"
        },
        "id": "R3ChICU_cMF6",
        "outputId": "1981fd74-9dde-4364-d51f-64caacc75db3"
      },
      "execution_count": null,
      "outputs": [
        {
          "output_type": "stream",
          "name": "stdout",
          "text": [
            "238\n"
          ]
        }
      ]
    },
    {
      "cell_type": "code",
      "source": [
        "with open('complete_text.txt', 'w') as f:\n",
        "  f.write(complete_text)"
      ],
      "metadata": {
        "id": "Xk7RvL5EdmAN"
      },
      "execution_count": null,
      "outputs": []
    },
    {
      "cell_type": "code",
      "source": [
        "sc = spark.sparkContext"
      ],
      "metadata": {
        "id": "dywxYhGKXc58"
      },
      "execution_count": null,
      "outputs": []
    },
    {
      "cell_type": "code",
      "execution_count": null,
      "metadata": {
        "vscode": {
          "languageId": "pyspark"
        },
        "id": "h5TnOdTpaQeC"
      },
      "outputs": [],
      "source": [
        "txt = sc.textFile('complete_text.txt') #spaces here won't make the program work"
      ]
    },
    {
      "cell_type": "code",
      "execution_count": null,
      "metadata": {
        "vscode": {
          "languageId": "pyspark"
        },
        "colab": {
          "base_uri": "https://localhost:8080/"
        },
        "id": "2C03CTYXaQeD",
        "outputId": "5e26fce6-2aa8-4111-ea98-b4b3a5f78311"
      },
      "outputs": [
        {
          "output_type": "execute_result",
          "data": {
            "text/plain": [
              "238"
            ]
          },
          "metadata": {},
          "execution_count": 13
        }
      ],
      "source": [
        "txt.count()"
      ]
    },
    {
      "cell_type": "code",
      "execution_count": null,
      "metadata": {
        "vscode": {
          "languageId": "pyspark"
        },
        "colab": {
          "base_uri": "https://localhost:8080/"
        },
        "id": "kI02ddNiaQeE",
        "outputId": "554ca97b-b4ae-4b67-e3db-0584e9e90889"
      },
      "outputs": [
        {
          "output_type": "execute_result",
          "data": {
            "text/plain": [
              "['First, How Uther Pendragon sent for the duke of Cornwall and Igraine his wife, and of their departing suddenly again. It befell in the days of Uther Pendragon, when he was king of all England, and so reigned, that there was a mighty duke in Cornwall that held war against him long time. And the duke was called the Duke of Tintagil. And so by means King Uther sent for this duke, charging him to bring his wife with him, for she was called a fair lady, and a passing wise, and her name was called Igraine. So when the duke and his wife were come unto the king, by the means of great lords they were accorded both. The king liked and loved this lady well, and he made them great cheer out of measure, and desired to have lain by her. But she was a passing good woman, and would not assent unto the king. And then she told the duke her husband, and said, I suppose that we were sent for that I should be dishonoured; wherefore, husband, I counsel you, that we depart from hence suddenly,',\n",
              " 'How Uther Pendragon made war on the duke of Cornwall, and how by the mean of Merlin he lay by the duchess and gat Arthur. Then Ulfius was glad, and rode on more than a pace till that he came to King Uther Pendragon, and told him he had met with Merlin. Where is he? said the king. Sir, said Ulfius, he will not dwell long. Therewithal Ulfius was ware where Merlin stood at the porch of the pavilion’s door. And then Merlin was bound to come to the king. When King Uther saw him, he said he was welcome. Sir, said Merlin, I know all your heart every deal; so ye will be sworn unto me as ye be a true king anointed, to fulfil my desire, ye shall have your desire. Then the king was sworn upon the Four Evangelists. Sir, said Merlin, this is my desire: the first night that ye shall lie by Igraine ye shall get a child on her, and when that is born, that it shall be delivered to me for to nourish there as I will have it; for it shall be your worship, and the child’s avail, as mickle as t']"
            ]
          },
          "metadata": {},
          "execution_count": 12
        }
      ],
      "source": [
        "txt.take(2)"
      ]
    },
    {
      "cell_type": "code",
      "execution_count": null,
      "metadata": {
        "vscode": {
          "languageId": "pyspark"
        },
        "id": "UOofJtlDaQeE"
      },
      "outputs": [],
      "source": [
        "line = 'The Project Gutenberg eBook of Le Morte D’Arthur, Volume I (of II), by Thomas Malory'"
      ]
    },
    {
      "cell_type": "code",
      "execution_count": null,
      "metadata": {
        "vscode": {
          "languageId": "pyspark"
        },
        "colab": {
          "base_uri": "https://localhost:8080/"
        },
        "id": "slJj5EIbaQeF",
        "outputId": "5504e840-36ea-4e89-d6a5-b1966ce47ed9"
      },
      "outputs": [
        {
          "output_type": "execute_result",
          "data": {
            "text/plain": [
              "['The',\n",
              " 'Project',\n",
              " 'Gutenberg',\n",
              " 'eBook',\n",
              " 'of',\n",
              " 'Le',\n",
              " 'Morte',\n",
              " 'D’Arthur,',\n",
              " 'Volume',\n",
              " 'I',\n",
              " '(of',\n",
              " 'II),',\n",
              " 'by',\n",
              " 'Thomas',\n",
              " 'Malory']"
            ]
          },
          "metadata": {},
          "execution_count": 17
        }
      ],
      "source": [
        "line.split(' ')"
      ]
    },
    {
      "cell_type": "code",
      "execution_count": null,
      "metadata": {
        "vscode": {
          "languageId": "pyspark"
        },
        "id": "IRstvw53aQeF"
      },
      "outputs": [],
      "source": [
        "def splitline(line):\n",
        "    return line.split(' ')\n",
        "#lambda line: line.split(' ')"
      ]
    },
    {
      "cell_type": "code",
      "execution_count": null,
      "metadata": {
        "vscode": {
          "languageId": "pyspark"
        },
        "id": "sZdUiaQaaQeG"
      },
      "outputs": [],
      "source": [
        "words = txt.flatMap(splitline) #map, flatMap"
      ]
    },
    {
      "cell_type": "code",
      "source": [
        "words.count()"
      ],
      "metadata": {
        "colab": {
          "base_uri": "https://localhost:8080/"
        },
        "id": "l2PfkjPt-OeN",
        "outputId": "3aef8c6a-957c-4726-8c7d-63cdd7634660"
      },
      "execution_count": null,
      "outputs": [
        {
          "output_type": "execute_result",
          "data": {
            "text/plain": [
              "45274"
            ]
          },
          "metadata": {},
          "execution_count": 40
        }
      ]
    },
    {
      "cell_type": "code",
      "execution_count": null,
      "metadata": {
        "vscode": {
          "languageId": "pyspark"
        },
        "colab": {
          "base_uri": "https://localhost:8080/"
        },
        "id": "_ShS0Xr8aQeG",
        "outputId": "3da68d7a-6d5a-4151-86ff-e2086f3e0ab0"
      },
      "outputs": [
        {
          "output_type": "execute_result",
          "data": {
            "text/plain": [
              "['First,', 'How']"
            ]
          },
          "metadata": {},
          "execution_count": 41
        }
      ],
      "source": [
        "words.take(2)"
      ]
    },
    {
      "cell_type": "code",
      "execution_count": null,
      "metadata": {
        "vscode": {
          "languageId": "pyspark"
        },
        "id": "NyRSqseeaQeG"
      },
      "outputs": [],
      "source": [
        "word_tuples = words.map(lambda word: (word, 1))"
      ]
    },
    {
      "cell_type": "code",
      "execution_count": null,
      "metadata": {
        "vscode": {
          "languageId": "pyspark"
        },
        "colab": {
          "base_uri": "https://localhost:8080/"
        },
        "id": "HcUWmZoPaQeH",
        "outputId": "0797bb6e-23b8-4d98-bd6c-7dc4de8f2b62"
      },
      "outputs": [
        {
          "output_type": "execute_result",
          "data": {
            "text/plain": [
              "[('First,', 1), ('How', 1), ('Uther', 1), ('Pendragon', 1), ('sent', 1)]"
            ]
          },
          "metadata": {},
          "execution_count": 43
        }
      ],
      "source": [
        "word_tuples.take(5)"
      ]
    },
    {
      "cell_type": "code",
      "execution_count": null,
      "metadata": {
        "vscode": {
          "languageId": "pyspark"
        },
        "id": "rHXJLdrraQeH"
      },
      "outputs": [],
      "source": [
        "word_count = word_tuples.reduceByKey(lambda this_word_counter, that_word_counter:\n",
        "                                      this_word_counter + that_word_counter)"
      ]
    },
    {
      "cell_type": "code",
      "source": [
        "word_count.count()"
      ],
      "metadata": {
        "colab": {
          "base_uri": "https://localhost:8080/"
        },
        "id": "3zFF0CPSCNqz",
        "outputId": "a1bf2026-0c82-4076-a601-872763f4dd13"
      },
      "execution_count": null,
      "outputs": [
        {
          "output_type": "execute_result",
          "data": {
            "text/plain": [
              "4723"
            ]
          },
          "metadata": {},
          "execution_count": 46
        }
      ]
    },
    {
      "cell_type": "code",
      "execution_count": null,
      "metadata": {
        "vscode": {
          "languageId": "pyspark"
        },
        "colab": {
          "base_uri": "https://localhost:8080/"
        },
        "id": "u1VNF4aPaQeH",
        "outputId": "e8b2f0e4-331b-4495-fceb-ffc2b9338fe6"
      },
      "outputs": [
        {
          "output_type": "execute_result",
          "data": {
            "text/plain": [
              "[('Uther', 12),\n",
              " ('Pendragon', 5),\n",
              " ('sent', 51),\n",
              " ('of', 1144),\n",
              " ('Cornwall', 17),\n",
              " ('Igraine', 4),\n",
              " ('his', 625),\n",
              " ('departing', 2),\n",
              " ('suddenly', 5),\n",
              " ('It', 20)]"
            ]
          },
          "metadata": {},
          "execution_count": 45
        }
      ],
      "source": [
        "word_count.take(10)"
      ]
    },
    {
      "cell_type": "code",
      "execution_count": null,
      "metadata": {
        "vscode": {
          "languageId": "pyspark"
        },
        "colab": {
          "base_uri": "https://localhost:8080/"
        },
        "id": "AuWNjzWxaQeI",
        "outputId": "bbb1d05e-c1d2-4724-a212-910fe6787ee2"
      },
      "outputs": [
        {
          "output_type": "execute_result",
          "data": {
            "text/plain": [
              "[('and', 2567),\n",
              " ('the', 1940),\n",
              " ('Sir', 1191),\n",
              " ('of', 1144),\n",
              " ('that', 988),\n",
              " ('he', 925),\n",
              " ('to', 784),\n",
              " ('a', 774),\n",
              " ('his', 625),\n",
              " ('was', 569)]"
            ]
          },
          "metadata": {},
          "execution_count": 51
        }
      ],
      "source": [
        "word_count.takeOrdered(10, lambda pair: -pair[1]) #and, or, not, the, of, he, to, a, his, was"
      ]
    },
    {
      "cell_type": "code",
      "execution_count": null,
      "metadata": {
        "vscode": {
          "languageId": "pyspark"
        },
        "colab": {
          "base_uri": "https://localhost:8080/"
        },
        "id": "ioAOPGePaQeI",
        "outputId": "0a3045ee-ef4d-4281-c765-513b57cf6caa"
      },
      "outputs": [
        {
          "output_type": "execute_result",
          "data": {
            "text/plain": [
              "[('Sir', 1191),\n",
              " ('that', 988),\n",
              " ('he', 925),\n",
              " ('to', 784),\n",
              " ('a', 774),\n",
              " ('his', 625),\n",
              " ('was', 569),\n",
              " ('with', 489),\n",
              " ('for', 486),\n",
              " ('I', 483),\n",
              " ('him', 480),\n",
              " ('said', 477),\n",
              " ('King', 452),\n",
              " ('in', 438),\n",
              " ('And', 380),\n",
              " ('they', 338),\n",
              " ('there', 308),\n",
              " ('so', 306),\n",
              " ('came', 285),\n",
              " ('this', 266)]"
            ]
          },
          "metadata": {},
          "execution_count": 53
        }
      ],
      "source": [
        "word_count.filter(lambda x: not x[0] in ['the', 'and', 'not', 'of']).takeOrdered(20, lambda pair: -pair[1])"
      ]
    },
    {
      "cell_type": "markdown",
      "metadata": {
        "id": "K3AU0WKkaQeJ"
      },
      "source": [
        "### Execute Word Count in one app"
      ]
    },
    {
      "cell_type": "code",
      "execution_count": null,
      "metadata": {
        "vscode": {
          "languageId": "pyspark"
        },
        "colab": {
          "base_uri": "https://localhost:8080/"
        },
        "id": "i4IfhmAgaQeK",
        "outputId": "c9af482c-ebb4-4af0-dd16-43864544a48e"
      },
      "outputs": [
        {
          "output_type": "execute_result",
          "data": {
            "text/plain": [
              "[('and', 2567),\n",
              " ('the', 1940),\n",
              " ('Sir', 1191),\n",
              " ('of', 1144),\n",
              " ('that', 988),\n",
              " ('he', 925),\n",
              " ('to', 784),\n",
              " ('a', 774),\n",
              " ('his', 625),\n",
              " ('was', 569),\n",
              " ('with', 489),\n",
              " ('for', 486),\n",
              " ('I', 483),\n",
              " ('him', 480),\n",
              " ('said', 477),\n",
              " ('King', 452),\n",
              " ('in', 438),\n",
              " ('And', 380),\n",
              " ('they', 338),\n",
              " ('there', 308),\n",
              " ('so', 306),\n",
              " ('came', 285),\n",
              " ('this', 266),\n",
              " ('ye', 265),\n",
              " ('knight', 257),\n",
              " ('she', 252),\n",
              " ('as', 251),\n",
              " ('all', 245),\n",
              " ('is', 240),\n",
              " ('Then', 227),\n",
              " ('How', 222),\n",
              " ('had', 211),\n",
              " ('have', 210),\n",
              " ('by', 209),\n",
              " ('unto', 204),\n",
              " ('be', 203),\n",
              " ('Tristram', 199),\n",
              " ('were', 198),\n",
              " ('great', 193),\n",
              " ('it', 190)]"
            ]
          },
          "metadata": {},
          "execution_count": 54
        }
      ],
      "source": [
        "sc.textFile(\"complete_text.txt\").\\\n",
        "flatMap(splitline).\\\n",
        "map(lambda word: (word, 1)  ).\\\n",
        "reduceByKey(lambda this_word_counter, that_word_counter:\n",
        "                                      this_word_counter + that_word_counter).\\\n",
        "takeOrdered(40, lambda pair: -pair[1])"
      ]
    },
    {
      "cell_type": "markdown",
      "metadata": {
        "id": "VbXg2QZMaQeL"
      },
      "source": [
        "### Alternative app"
      ]
    },
    {
      "cell_type": "code",
      "execution_count": null,
      "metadata": {
        "vscode": {
          "languageId": "pyspark"
        },
        "id": "9plYi2myaQeL"
      },
      "outputs": [],
      "source": [
        "def splitline_into_tuples(line):\n",
        "    words = line.split(' ')\n",
        "    pairs = []\n",
        "    for word in words:\n",
        "        pairs.append( (word, 1)  )\n",
        "    return pairs"
      ]
    },
    {
      "cell_type": "code",
      "execution_count": null,
      "metadata": {
        "vscode": {
          "languageId": "pyspark"
        },
        "colab": {
          "base_uri": "https://localhost:8080/"
        },
        "id": "pGpDsRy7aQeL",
        "outputId": "becc24a9-9dc3-4214-c4d1-a0cee9435f8d"
      },
      "outputs": [
        {
          "output_type": "execute_result",
          "data": {
            "text/plain": [
              "[('and', 2567),\n",
              " ('the', 1940),\n",
              " ('Sir', 1191),\n",
              " ('of', 1144),\n",
              " ('that', 988),\n",
              " ('he', 925),\n",
              " ('to', 784),\n",
              " ('a', 774),\n",
              " ('his', 625),\n",
              " ('was', 569),\n",
              " ('with', 489),\n",
              " ('for', 486),\n",
              " ('I', 483),\n",
              " ('him', 480),\n",
              " ('said', 477),\n",
              " ('King', 452),\n",
              " ('in', 438),\n",
              " ('And', 380),\n",
              " ('they', 338),\n",
              " ('there', 308),\n",
              " ('so', 306),\n",
              " ('came', 285),\n",
              " ('this', 266),\n",
              " ('ye', 265),\n",
              " ('knight', 257),\n",
              " ('she', 252),\n",
              " ('as', 251),\n",
              " ('all', 245),\n",
              " ('is', 240),\n",
              " ('Then', 227),\n",
              " ('How', 222),\n",
              " ('had', 211),\n",
              " ('have', 210),\n",
              " ('by', 209),\n",
              " ('unto', 204),\n",
              " ('be', 203),\n",
              " ('Tristram', 199),\n",
              " ('were', 198),\n",
              " ('great', 193),\n",
              " ('it', 190)]"
            ]
          },
          "metadata": {},
          "execution_count": 69
        }
      ],
      "source": [
        "sc.textFile(\"complete_text.txt\").\\\n",
        "flatMap(splitline_into_tuples).\\\n",
        "reduceByKey(lambda this_word_counter, that_word_counter:\n",
        "                                      this_word_counter + that_word_counter).\\\n",
        "takeOrdered(40, lambda pair: -pair[1])"
      ]
    },
    {
      "cell_type": "markdown",
      "metadata": {
        "id": "DL8XeMuDaQeM"
      },
      "source": [
        "# Yet another app\n",
        " * removes stopwords\n",
        " * does not consider upper/lower case"
      ]
    },
    {
      "cell_type": "code",
      "execution_count": null,
      "metadata": {
        "vscode": {
          "languageId": "pyspark"
        },
        "id": "R97nyRbgaQeM"
      },
      "outputs": [],
      "source": [
        "stopWords = {'a',\n",
        " 'about',\n",
        " 'above',\n",
        " 'after',\n",
        " 'again',\n",
        " 'against',\n",
        " 'ain',\n",
        " 'all',\n",
        " 'am',\n",
        " 'an',\n",
        " 'and',\n",
        " 'any',\n",
        " 'are',\n",
        " 'aren',\n",
        " \"aren't\",\n",
        " 'as',\n",
        " 'at',\n",
        " 'be',\n",
        " 'because',\n",
        " 'been',\n",
        " 'before',\n",
        " 'being',\n",
        " 'below',\n",
        " 'between',\n",
        " 'both',\n",
        " 'but',\n",
        " 'by',\n",
        " 'can',\n",
        " 'couldn',\n",
        " \"couldn't\",\n",
        " 'd',\n",
        " 'did',\n",
        " 'didn',\n",
        " \"didn't\",\n",
        " 'do',\n",
        " 'does',\n",
        " 'doesn',\n",
        " \"doesn't\",\n",
        " 'doing',\n",
        " 'don',\n",
        " \"don't\",\n",
        " 'down',\n",
        " 'during',\n",
        " 'each',\n",
        " 'few',\n",
        " 'for',\n",
        " 'from',\n",
        " 'further',\n",
        " 'had',\n",
        " 'hadn',\n",
        " \"hadn't\",\n",
        " 'has',\n",
        " 'hasn',\n",
        " \"hasn't\",\n",
        " 'have',\n",
        " 'haven',\n",
        " \"haven't\",\n",
        " 'having',\n",
        " 'he',\n",
        " 'her',\n",
        " 'here',\n",
        " 'hers',\n",
        " 'herself',\n",
        " 'him',\n",
        " 'himself',\n",
        " 'his',\n",
        " 'how',\n",
        " 'i',\n",
        " 'if',\n",
        " 'in',\n",
        " 'into',\n",
        " 'is',\n",
        " 'isn',\n",
        " \"isn't\",\n",
        " 'it',\n",
        " \"it's\",\n",
        " 'its',\n",
        " 'itself',\n",
        " 'just',\n",
        " 'll',\n",
        " 'm',\n",
        " 'ma',\n",
        " 'me',\n",
        " 'mightn',\n",
        " \"mightn't\",\n",
        " 'more',\n",
        " 'most',\n",
        " 'mustn',\n",
        " \"mustn't\",\n",
        " 'my',\n",
        " 'myself',\n",
        " 'needn',\n",
        " \"needn't\",\n",
        " 'no',\n",
        " 'nor',\n",
        " 'not',\n",
        " 'now',\n",
        " 'o',\n",
        " 'of',\n",
        " 'off',\n",
        " 'on',\n",
        " 'once',\n",
        " 'only',\n",
        " 'or',\n",
        " 'other',\n",
        " 'our',\n",
        " 'ours',\n",
        " 'ourselves',\n",
        " 'out',\n",
        " 'over',\n",
        " 'own',\n",
        " 're',\n",
        " 's',\n",
        " 'same',\n",
        " 'shan',\n",
        " \"shan't\",\n",
        " 'she',\n",
        " \"she's\",\n",
        " 'should',\n",
        " \"should've\",\n",
        " 'shouldn',\n",
        " \"shouldn't\",\n",
        " 'so',\n",
        " 'some',\n",
        " 'such',\n",
        " 't',\n",
        " 'than',\n",
        " 'that',\n",
        " \"that'll\",\n",
        " 'the',\n",
        " 'their',\n",
        " 'theirs',\n",
        " 'them',\n",
        " 'themselves',\n",
        " 'then',\n",
        " 'there',\n",
        " 'these',\n",
        " 'they',\n",
        " 'this',\n",
        " 'those',\n",
        " 'through',\n",
        " 'to',\n",
        " 'too',\n",
        " 'under',\n",
        " 'until',\n",
        " 'up',\n",
        " 've',\n",
        " 'very',\n",
        " 'was',\n",
        " 'wasn',\n",
        " \"wasn't\",\n",
        " 'we',\n",
        " 'were',\n",
        " 'weren',\n",
        " \"weren't\",\n",
        " 'what',\n",
        " 'when',\n",
        " 'where',\n",
        " 'which',\n",
        " 'while',\n",
        " 'who',\n",
        " 'whom',\n",
        " 'why',\n",
        " 'will',\n",
        " 'with',\n",
        " 'won',\n",
        " \"won't\",\n",
        " 'wouldn',\n",
        " \"wouldn't\",\n",
        " 'y',\n",
        " 'you',\n",
        " \"you'd\",\n",
        " \"you'll\",\n",
        " \"you're\",\n",
        " \"you've\",\n",
        " 'your',\n",
        " 'yours',\n",
        " 'yourself',\n",
        " 'yourselves'}"
      ]
    },
    {
      "cell_type": "code",
      "execution_count": null,
      "metadata": {
        "vscode": {
          "languageId": "pyspark"
        },
        "id": "w_A1IuZgaQeN"
      },
      "outputs": [],
      "source": [
        "def split_clean_tokenize(line):\n",
        "    # ignore empty lines\n",
        "    if len(line) < 1:\n",
        "        return []\n",
        "\n",
        "    # convert to lowercase\n",
        "    lowCase_str = line.lower()\n",
        "\n",
        "    # remove punctuation\n",
        "    punc = '!\"#&\\()*+,-./:;<=>?@[\\\\]^_{|}~$%'\n",
        "    for ch in punc:\n",
        "        lowCase_str = lowCase_str.replace(ch,'')\n",
        "\n",
        "    # tokenize non stop words\n",
        "    tupples = []\n",
        "    for word in lowCase_str.split(' '):\n",
        "        if word not in stopWords:\n",
        "            tupples.append( (word, 1) )\n",
        "\n",
        "    return tupples"
      ]
    },
    {
      "cell_type": "code",
      "execution_count": null,
      "metadata": {
        "vscode": {
          "languageId": "pyspark"
        },
        "colab": {
          "base_uri": "https://localhost:8080/"
        },
        "id": "-ao9XrIsaQeN",
        "outputId": "fdfedc0b-08cc-4aab-ff5c-317965099321"
      },
      "outputs": [
        {
          "output_type": "execute_result",
          "data": {
            "text/plain": [
              "[('sir', 1286),\n",
              " ('king', 620),\n",
              " ('said', 544),\n",
              " ('knight', 430),\n",
              " ('tristram', 303),\n",
              " ('came', 291),\n",
              " ('ye', 284),\n",
              " ('arthur', 254),\n",
              " ('knights', 235),\n",
              " ('unto', 207),\n",
              " ('great', 195),\n",
              " ('launcelot', 180),\n",
              " ('shall', 164),\n",
              " ('well', 152),\n",
              " ('lady', 146),\n",
              " ('made', 145),\n",
              " ('would', 127),\n",
              " ('damosel', 122),\n",
              " ('rode', 122),\n",
              " ('upon', 119),\n",
              " ('thou', 114),\n",
              " ('gawaine', 102),\n",
              " ('two', 98),\n",
              " ('saw', 96),\n",
              " ('many', 94),\n",
              " ('horse', 94),\n",
              " ('took', 93),\n",
              " ('man', 90),\n",
              " ('sword', 88),\n",
              " ('good', 82),\n",
              " ('fair', 82),\n",
              " ('merlin', 81),\n",
              " ('one', 80),\n",
              " ('castle', 78),\n",
              " ('might', 75),\n",
              " ('met', 73),\n",
              " ('la', 73),\n",
              " ('ever', 72),\n",
              " ('smote', 72),\n",
              " ('let', 70)]"
            ]
          },
          "metadata": {},
          "execution_count": 75
        }
      ],
      "source": [
        "sc.textFile(\"complete_text.txt\").\\\n",
        "flatMap(split_clean_tokenize).\\\n",
        "reduceByKey(lambda this_word_counter, that_word_counter:\n",
        "                                      this_word_counter + that_word_counter).\\\n",
        "takeOrdered(40, lambda tupple: -tupple[1])"
      ]
    },
    {
      "cell_type": "markdown",
      "metadata": {
        "id": "HXBsDKABaQeN"
      },
      "source": [
        "### Separate per chapter"
      ]
    },
    {
      "cell_type": "code",
      "source": [
        "import os\n",
        "# create chapters folder\n",
        "os.mkdir('chapters')\n",
        "\n",
        "max_chars = 1000\n",
        "cont = 0\n",
        "chapters = soup.find_all('div', class_='chapter')\n",
        "for i,chapter in enumerate(chapters[2:-1]):\n",
        "    proc_txt = chapter.get_text().replace(\"\\n\",\" \")[:max_chars].strip()\n",
        "    if \"BOOK \" == proc_txt[:5]:\n",
        "        book_num = proc_txt[5:-1]\n",
        "        continue\n",
        "    app = re.split(r'\\.', proc_txt, 1)\n",
        "    proc_txt = re.sub(\" +\",\" \",app[1]).strip()\n",
        "    with open(f'chapters/{book_num}_{str(app[0].split(\" \")[-1])}.txt', 'w') as f:\n",
        "        f.write(proc_txt)\n",
        "    cont+=1\n",
        "    if cont >10: break\n",
        "print(cont)"
      ],
      "metadata": {
        "colab": {
          "base_uri": "https://localhost:8080/"
        },
        "id": "VxaXvX-5lqoO",
        "outputId": "fbc63945-f934-455b-b1f8-121a7d1d33d0"
      },
      "execution_count": null,
      "outputs": [
        {
          "output_type": "stream",
          "name": "stdout",
          "text": [
            "11\n"
          ]
        }
      ]
    },
    {
      "cell_type": "code",
      "source": [
        "book_1_1 = sc.textFile(f\"chapters/I_I.txt\").\\\n",
        "                flatMap(split_clean_tokenize).\\\n",
        "                    map(lambda token: ( (\"I_I\", token[0]) , token[1]))\n",
        "\n",
        "book_1_2 = sc.textFile(f\"chapters/I_II.txt\").\\\n",
        "                flatMap(split_clean_tokenize).\\\n",
        "                    map(lambda token: ( (\"I_II\", token[0]) , token[1]))\n",
        "\n",
        "num_documents = 2"
      ],
      "metadata": {
        "id": "yqAWU9NWqTAQ"
      },
      "execution_count": null,
      "outputs": []
    },
    {
      "cell_type": "code",
      "execution_count": null,
      "metadata": {
        "vscode": {
          "languageId": "pyspark"
        },
        "id": "Oy3uur3OaQeN"
      },
      "outputs": [],
      "source": [
        "allbooks = book_1_1.union(book_1_2)"
      ]
    },
    {
      "cell_type": "code",
      "source": [
        "allbooks"
      ],
      "metadata": {
        "colab": {
          "base_uri": "https://localhost:8080/"
        },
        "id": "PGVf7tMQSkGX",
        "outputId": "88d4788a-cdba-457b-dc9c-59e52ec7b7ac"
      },
      "execution_count": null,
      "outputs": [
        {
          "output_type": "execute_result",
          "data": {
            "text/plain": [
              "UnionRDD[113] at union at NativeMethodAccessorImpl.java:0"
            ]
          },
          "metadata": {},
          "execution_count": 81
        }
      ]
    },
    {
      "cell_type": "code",
      "execution_count": null,
      "metadata": {
        "vscode": {
          "languageId": "pyspark"
        },
        "colab": {
          "base_uri": "https://localhost:8080/"
        },
        "id": "gI1Q2-VhaQeO",
        "outputId": "42b2e982-56c8-45bb-a341-620c0e8f97be"
      },
      "outputs": [
        {
          "output_type": "execute_result",
          "data": {
            "text/plain": [
              "[(('I_I', 'first'), 1),\n",
              " (('I_I', 'uther'), 1),\n",
              " (('I_I', 'pendragon'), 1),\n",
              " (('I_I', 'sent'), 1),\n",
              " (('I_I', 'duke'), 1)]"
            ]
          },
          "metadata": {},
          "execution_count": 78
        }
      ],
      "source": [
        "book_1_1.take(5)"
      ]
    },
    {
      "cell_type": "code",
      "source": [
        "book_1_2.take(5)"
      ],
      "metadata": {
        "colab": {
          "base_uri": "https://localhost:8080/"
        },
        "id": "QZBKyGaGSdAO",
        "outputId": "037d646b-7002-4818-b6d6-b526c7817860"
      },
      "execution_count": null,
      "outputs": [
        {
          "output_type": "execute_result",
          "data": {
            "text/plain": [
              "[(('I_II', 'uther'), 1),\n",
              " (('I_II', 'pendragon'), 1),\n",
              " (('I_II', 'made'), 1),\n",
              " (('I_II', 'war'), 1),\n",
              " (('I_II', 'duke'), 1)]"
            ]
          },
          "metadata": {},
          "execution_count": 79
        }
      ]
    },
    {
      "cell_type": "code",
      "execution_count": null,
      "metadata": {
        "vscode": {
          "languageId": "pyspark"
        },
        "colab": {
          "base_uri": "https://localhost:8080/"
        },
        "id": "K6jB6z7vaQeO",
        "outputId": "8b15bdee-1343-4c0e-d1bb-24f210c816d5"
      },
      "outputs": [
        {
          "output_type": "execute_result",
          "data": {
            "text/plain": [
              "[(('I_I', 'first'), 1),\n",
              " (('I_I', 'uther'), 1),\n",
              " (('I_I', 'pendragon'), 1),\n",
              " (('I_I', 'sent'), 1),\n",
              " (('I_I', 'duke'), 1),\n",
              " (('I_I', 'cornwall'), 1),\n",
              " (('I_I', 'igraine'), 1),\n",
              " (('I_I', 'wife'), 1),\n",
              " (('I_I', 'departing'), 1),\n",
              " (('I_I', 'suddenly'), 1)]"
            ]
          },
          "metadata": {},
          "execution_count": 85
        }
      ],
      "source": [
        "allbooks.filter(lambda token: token[0][0] == \"I_I\").take(10)"
      ]
    },
    {
      "cell_type": "code",
      "source": [
        "allbooks.filter(lambda token: token[0][1] == \"uther\").take(10)"
      ],
      "metadata": {
        "colab": {
          "base_uri": "https://localhost:8080/"
        },
        "id": "PjIEXoetrDMk",
        "outputId": "86aad580-947b-40b0-ec30-fb1242743cd1"
      },
      "execution_count": null,
      "outputs": [
        {
          "output_type": "execute_result",
          "data": {
            "text/plain": [
              "[(('I_I', 'uther'), 1),\n",
              " (('I_I', 'uther'), 1),\n",
              " (('I_I', 'uther'), 1),\n",
              " (('I_II', 'uther'), 1),\n",
              " (('I_II', 'uther'), 1),\n",
              " (('I_II', 'uther'), 1)]"
            ]
          },
          "metadata": {},
          "execution_count": 86
        }
      ]
    },
    {
      "cell_type": "code",
      "execution_count": null,
      "metadata": {
        "vscode": {
          "languageId": "pyspark"
        },
        "id": "Cd12HtfaaQeO"
      },
      "outputs": [],
      "source": [
        "alltuples = allbooks.reduceByKey(lambda this_word_counter, that_word_counter: this_word_counter + that_word_counter)"
      ]
    },
    {
      "cell_type": "code",
      "execution_count": null,
      "metadata": {
        "vscode": {
          "languageId": "pyspark"
        },
        "colab": {
          "base_uri": "https://localhost:8080/"
        },
        "id": "2I13G_xbaQeO",
        "outputId": "f8ae99b1-0a13-4173-a338-21ef7488418a"
      },
      "outputs": [
        {
          "output_type": "execute_result",
          "data": {
            "text/plain": [
              "[(('I_I', 'pendragon'), 2),\n",
              " (('I_I', 'duke'), 7),\n",
              " (('I_I', 'reigned'), 1),\n",
              " (('I_I', 'held'), 1),\n",
              " (('I_I', 'war'), 1),\n",
              " (('I_I', 'called'), 3),\n",
              " (('I_I', 'tintagil'), 1),\n",
              " (('I_I', 'fair'), 1),\n",
              " (('I_I', 'come'), 1),\n",
              " (('I_I', 'unto'), 2)]"
            ]
          },
          "metadata": {},
          "execution_count": 88
        }
      ],
      "source": [
        "alltuples.take(10)"
      ]
    },
    {
      "cell_type": "markdown",
      "metadata": {
        "id": "Yc4gOGI-aQeP"
      },
      "source": [
        "Alltupples -> Key: documentID + token, Value: TF(token) for this document\n",
        "\n",
        "AnotherRDD -> Key: token, Value: number of documents it appears in."
      ]
    },
    {
      "cell_type": "code",
      "execution_count": null,
      "metadata": {
        "vscode": {
          "languageId": "pyspark"
        },
        "id": "nGzbYMLHaQeP"
      },
      "outputs": [],
      "source": [
        "anotherRDD = allbooks.reduceByKey(lambda this_word_counter, that_word_counter: 1)"
      ]
    },
    {
      "cell_type": "code",
      "source": [
        "anotherRDD.filter(lambda token: token[0][1] == \"uther\").take(10)"
      ],
      "metadata": {
        "colab": {
          "base_uri": "https://localhost:8080/"
        },
        "id": "FcBeLF3tWERc",
        "outputId": "659ce9d6-596a-40c4-972d-16f3b04be2bd"
      },
      "execution_count": null,
      "outputs": [
        {
          "output_type": "execute_result",
          "data": {
            "text/plain": [
              "[(('I_I', 'uther'), 1), (('I_II', 'uther'), 1)]"
            ]
          },
          "metadata": {},
          "execution_count": 91
        }
      ]
    },
    {
      "cell_type": "code",
      "execution_count": null,
      "metadata": {
        "vscode": {
          "languageId": "pyspark"
        },
        "id": "zMPnFDhsaQeP"
      },
      "outputs": [],
      "source": [
        "documentsRDD = anotherRDD.map(lambda token: (token[0][1], 1) ).\\\n",
        "reduceByKey(lambda this_word_counter, that_word_counter: this_word_counter + that_word_counter)"
      ]
    },
    {
      "cell_type": "code",
      "source": [
        "documentsRDD.take(10)"
      ],
      "metadata": {
        "colab": {
          "base_uri": "https://localhost:8080/"
        },
        "id": "6KbgdOo-Wzk1",
        "outputId": "f50d4d12-3faf-412a-f23f-785b5d05b5cd"
      },
      "execution_count": null,
      "outputs": [
        {
          "output_type": "execute_result",
          "data": {
            "text/plain": [
              "[('uther', 2),\n",
              " ('sent', 1),\n",
              " ('departing', 1),\n",
              " ('befell', 1),\n",
              " ('days', 1),\n",
              " ('king', 2),\n",
              " ('england', 1),\n",
              " ('mighty', 1),\n",
              " ('long', 2),\n",
              " ('lady', 1)]"
            ]
          },
          "metadata": {},
          "execution_count": 93
        }
      ]
    },
    {
      "cell_type": "code",
      "execution_count": null,
      "metadata": {
        "vscode": {
          "languageId": "pyspark"
        },
        "id": "AS3IiKbXaQeQ"
      },
      "outputs": [],
      "source": [
        "ndRDD = documentsRDD.map(lambda token: (token[0], ('ND', token[1]) ) )"
      ]
    },
    {
      "cell_type": "code",
      "execution_count": null,
      "metadata": {
        "vscode": {
          "languageId": "pyspark"
        },
        "colab": {
          "base_uri": "https://localhost:8080/"
        },
        "id": "DYzI0YvnaQeQ",
        "outputId": "c873cd3a-9d88-412e-f81f-a519032bda8d"
      },
      "outputs": [
        {
          "output_type": "execute_result",
          "data": {
            "text/plain": [
              "[('uther', ('ND', 2)),\n",
              " ('sent', ('ND', 1)),\n",
              " ('departing', ('ND', 1)),\n",
              " ('befell', ('ND', 1)),\n",
              " ('days', ('ND', 1)),\n",
              " ('king', ('ND', 2)),\n",
              " ('england', ('ND', 1)),\n",
              " ('mighty', ('ND', 1)),\n",
              " ('long', ('ND', 2)),\n",
              " ('lady', ('ND', 1))]"
            ]
          },
          "metadata": {},
          "execution_count": 95
        }
      ],
      "source": [
        "ndRDD.take(10)"
      ]
    },
    {
      "cell_type": "code",
      "execution_count": null,
      "metadata": {
        "vscode": {
          "languageId": "pyspark"
        },
        "id": "OxtVR8PTaQeQ"
      },
      "outputs": [],
      "source": [
        "tfRDD = alltuples.map(lambda token: (token[0][1], ('TF-' + str(token[0][0]), token[1]) ) )"
      ]
    },
    {
      "cell_type": "code",
      "execution_count": null,
      "metadata": {
        "vscode": {
          "languageId": "pyspark"
        },
        "colab": {
          "base_uri": "https://localhost:8080/"
        },
        "id": "ssANCtRIaQeR",
        "outputId": "21036580-692f-45f8-aa5b-66ec483f18b2"
      },
      "outputs": [
        {
          "output_type": "execute_result",
          "data": {
            "text/plain": [
              "[('pendragon', ('TF-I_I', 2)),\n",
              " ('duke', ('TF-I_I', 7)),\n",
              " ('reigned', ('TF-I_I', 1)),\n",
              " ('held', ('TF-I_I', 1)),\n",
              " ('war', ('TF-I_I', 1)),\n",
              " ('called', ('TF-I_I', 3)),\n",
              " ('tintagil', ('TF-I_I', 1)),\n",
              " ('fair', ('TF-I_I', 1)),\n",
              " ('come', ('TF-I_I', 1)),\n",
              " ('unto', ('TF-I_I', 2))]"
            ]
          },
          "metadata": {},
          "execution_count": 97
        }
      ],
      "source": [
        "tfRDD.take(10)"
      ]
    },
    {
      "cell_type": "code",
      "execution_count": null,
      "metadata": {
        "vscode": {
          "languageId": "pyspark"
        },
        "id": "GXxIxYYzaQeS"
      },
      "outputs": [],
      "source": [
        "tfidfRDD = tfRDD.union(ndRDD)"
      ]
    },
    {
      "cell_type": "code",
      "execution_count": null,
      "metadata": {
        "vscode": {
          "languageId": "pyspark"
        },
        "colab": {
          "base_uri": "https://localhost:8080/"
        },
        "id": "CF28BuHLaQeT",
        "outputId": "350ce07d-2fa5-49b5-802e-2e3a4c06d013"
      },
      "outputs": [
        {
          "output_type": "execute_result",
          "data": {
            "text/plain": [
              "[('uther', ('TF-I_I', 3)), ('uther', ('TF-I_II', 3)), ('uther', ('ND', 2))]"
            ]
          },
          "metadata": {},
          "execution_count": 99
        }
      ],
      "source": [
        "tfidfRDD.filter(lambda word: word[0] == 'uther').collect()"
      ]
    },
    {
      "cell_type": "markdown",
      "metadata": {
        "id": "dW0iynvNaQeT"
      },
      "source": [
        "# Compute TF-IDF for a word\n",
        "\n",
        "TF-IDF(w) = N(frequency of w in a document) * log( total_number_of_documents = 4 / Number_of_Documents_Containing_word_w\n",
        "\n",
        "\n",
        "TF-IDF(w) -- we filter the RDD based on 'w' -- we need to get as result all the information for computing this formula\n",
        "\n",
        "```\n",
        "tf_idf_rdd.filter('dracula').collect()\n",
        "[('dracula', ('number of documents it appears', 1) ),\n",
        "('dracula', ('TF-0', 2332) )]\n",
        "\n",
        "tf_idf_rdd.filter('project').collect()\n",
        "[('project', ('number of documents it appears', 4) ),\n",
        "('project', ('TF-0', 93) ),\n",
        "('project', ('TF-1', 33) ),\n",
        "('project', ('TF-2', 45) ),\n",
        "('project', ('TF-3', 50) )]\n",
        "\n",
        "\n",
        "tf_idf_rdd.filter('project').groupByKey().mapValues(list).collect()\n",
        "\n",
        "('project', [('number of documents it appears', 4), ('TF-0', 93), ('TF-1', 33), ('TF-2', 45), ('TF-3', 50)] )\n",
        "\n",
        "```"
      ]
    },
    {
      "cell_type": "code",
      "execution_count": null,
      "metadata": {
        "vscode": {
          "languageId": "pyspark"
        },
        "id": "8BvWRA5KaQeU"
      },
      "outputs": [],
      "source": [
        "tfRDD = allbooks.reduceByKey(lambda this_word_counter, that_word_counter: this_word_counter + that_word_counter)\\\n",
        ".map(lambda token: (token[0][1], ('TF-' + str(token[0][0]), token[1]) ) )"
      ]
    },
    {
      "cell_type": "code",
      "execution_count": null,
      "metadata": {
        "vscode": {
          "languageId": "pyspark"
        },
        "id": "QIzpU2A9aQeU"
      },
      "outputs": [],
      "source": [
        "ndRDD = allbooks.reduceByKey(lambda this_word_counter, that_word_counter: 1).map(lambda token: (token[0][1], 1) )\\\n",
        ".reduceByKey(lambda this_word_counter, that_word_counter: this_word_counter + that_word_counter)\\\n",
        ".map(lambda token: (token[0], ('ND', token[1]) ) )"
      ]
    },
    {
      "cell_type": "code",
      "execution_count": null,
      "metadata": {
        "vscode": {
          "languageId": "pyspark"
        },
        "id": "blGU0JJraQeU"
      },
      "outputs": [],
      "source": [
        "tfidfRDD = tfRDD.union(ndRDD)"
      ]
    },
    {
      "cell_type": "code",
      "execution_count": null,
      "metadata": {
        "vscode": {
          "languageId": "pyspark"
        },
        "colab": {
          "base_uri": "https://localhost:8080/"
        },
        "id": "eBfJytWvaQeV",
        "outputId": "f4aa5049-f6bf-4f34-fa96-737870267d5d"
      },
      "outputs": [
        {
          "output_type": "execute_result",
          "data": {
            "text/plain": [
              "[('uther', ('TF-I_I', 3)), ('uther', ('TF-I_II', 3)), ('uther', ('ND', 2))]"
            ]
          },
          "metadata": {},
          "execution_count": 105
        }
      ],
      "source": [
        "tfidfRDD.filter(lambda word: word[0] == 'uther').collect()"
      ]
    },
    {
      "cell_type": "code",
      "execution_count": null,
      "metadata": {
        "vscode": {
          "languageId": "pyspark"
        },
        "id": "-WG7F4E0aQeV"
      },
      "outputs": [],
      "source": [
        "merge_tuples = tfidfRDD.groupByKey().mapValues(list)"
      ]
    },
    {
      "cell_type": "code",
      "source": [
        "merge_tuples.take(10)"
      ],
      "metadata": {
        "colab": {
          "base_uri": "https://localhost:8080/"
        },
        "id": "8gYApXssZPHc",
        "outputId": "1280f830-b08a-413d-d7a8-3a0d72bf1f61"
      },
      "execution_count": null,
      "outputs": [
        {
          "output_type": "execute_result",
          "data": {
            "text/plain": [
              "[('mighty', [('TF-I_I', 1), ('ND', 1)]),\n",
              " ('lords', [('TF-I_I', 1), ('ND', 1)]),\n",
              " ('liked', [('TF-I_I', 1), ('ND', 1)]),\n",
              " ('good', [('TF-I_I', 1), ('ND', 1)]),\n",
              " ('would', [('TF-I_I', 1), ('ND', 1)]),\n",
              " ('dishonoured', [('TF-I_I', 1), ('ND', 1)]),\n",
              " ('wherefore', [('TF-I_I', 1), ('ND', 1)]),\n",
              " ('gat', [('TF-I_II', 1), ('ND', 1)]),\n",
              " ('came', [('TF-I_II', 1), ('ND', 1)]),\n",
              " ('ware', [('TF-I_II', 1), ('ND', 1)])]"
            ]
          },
          "metadata": {},
          "execution_count": 107
        }
      ]
    },
    {
      "cell_type": "code",
      "execution_count": null,
      "metadata": {
        "vscode": {
          "languageId": "pyspark"
        },
        "id": "uQLYxAz1aQeV"
      },
      "outputs": [],
      "source": [
        "import math"
      ]
    },
    {
      "cell_type": "code",
      "execution_count": null,
      "metadata": {
        "vscode": {
          "languageId": "pyspark"
        },
        "id": "8X1ZzaIGaQeV"
      },
      "outputs": [],
      "source": [
        "def compute_tfidf(tupple):\n",
        "    word = tupple[0]\n",
        "    allterms = tupple[1]\n",
        "    dictterms = {}\n",
        "    for term in allterms:\n",
        "        dictterms[term[0]] = term[1]\n",
        "\n",
        "    nd = dictterms['ND']\n",
        "    del dictterms['ND']\n",
        "\n",
        "    result = []\n",
        "    for key, value in dictterms.items():\n",
        "        tfidf = value * math.log10(num_documents / nd)\n",
        "        result.append( ('TF-IDF-' + key.split('-')[1], tfidf) )\n",
        "\n",
        "    return (word, result)"
      ]
    },
    {
      "cell_type": "code",
      "execution_count": null,
      "metadata": {
        "vscode": {
          "languageId": "pyspark"
        },
        "colab": {
          "base_uri": "https://localhost:8080/"
        },
        "id": "7hOSwmUtaQeW",
        "outputId": "1acb350e-e02f-44e8-9c70-19054c329d0a"
      },
      "outputs": [
        {
          "output_type": "execute_result",
          "data": {
            "text/plain": [
              "('arthur', [('TF-IDF-2', 0.6020599913279624)])"
            ]
          },
          "metadata": {},
          "execution_count": 110
        }
      ],
      "source": [
        "compute_tfidf( ('arthur', [('TF-2', 2), ('ND', 1)]) )"
      ]
    },
    {
      "cell_type": "code",
      "execution_count": null,
      "metadata": {
        "vscode": {
          "languageId": "pyspark"
        },
        "id": "iAhKxIiVaQeW"
      },
      "outputs": [],
      "source": [
        "final_tuples = tfidfRDD.groupByKey().mapValues(list).map(compute_tfidf)"
      ]
    },
    {
      "cell_type": "code",
      "execution_count": null,
      "metadata": {
        "vscode": {
          "languageId": "pyspark"
        },
        "colab": {
          "base_uri": "https://localhost:8080/"
        },
        "id": "nTO6z1lfaQeW",
        "outputId": "a75f240a-144a-47d6-8403-bcadfea69919"
      },
      "outputs": [
        {
          "output_type": "execute_result",
          "data": {
            "text/plain": [
              "[('mighty', [('TF-IDF-I_I', 0.3010299956639812)]),\n",
              " ('lords', [('TF-IDF-I_I', 0.3010299956639812)]),\n",
              " ('liked', [('TF-IDF-I_I', 0.3010299956639812)]),\n",
              " ('good', [('TF-IDF-I_I', 0.3010299956639812)]),\n",
              " ('would', [('TF-IDF-I_I', 0.3010299956639812)]),\n",
              " ('dishonoured', [('TF-IDF-I_I', 0.3010299956639812)]),\n",
              " ('wherefore', [('TF-IDF-I_I', 0.3010299956639812)]),\n",
              " ('gat', [('TF-IDF-I_II', 0.3010299956639812)]),\n",
              " ('came', [('TF-IDF-I_II', 0.3010299956639812)]),\n",
              " ('ware', [('TF-IDF-I_II', 0.3010299956639812)])]"
            ]
          },
          "metadata": {},
          "execution_count": 112
        }
      ],
      "source": [
        "final_tuples.take(10)"
      ]
    },
    {
      "cell_type": "code",
      "execution_count": null,
      "metadata": {
        "vscode": {
          "languageId": "pyspark"
        },
        "colab": {
          "base_uri": "https://localhost:8080/"
        },
        "id": "5KxoiSdyaQeW",
        "outputId": "6b44367f-c166-4d6c-92fd-6f7d26f6af6e"
      },
      "outputs": [
        {
          "output_type": "execute_result",
          "data": {
            "text/plain": [
              "[('uther', [('TF-IDF-I_I', 0.0), ('TF-IDF-I_II', 0.0)])]"
            ]
          },
          "metadata": {},
          "execution_count": 113
        }
      ],
      "source": [
        "final_tuples.filter(lambda token: token[0] == 'uther').collect()"
      ]
    },
    {
      "cell_type": "code",
      "execution_count": null,
      "metadata": {
        "vscode": {
          "languageId": "pyspark"
        },
        "colab": {
          "base_uri": "https://localhost:8080/"
        },
        "id": "UcR7Y5r2aQeW",
        "outputId": "924dd460-0e6f-46f2-fa58-6bb8382d0ef9"
      },
      "outputs": [
        {
          "output_type": "execute_result",
          "data": {
            "text/plain": [
              "[('arthur', [('TF-IDF-I_II', 0.3010299956639812)])]"
            ]
          },
          "metadata": {},
          "execution_count": 114
        }
      ],
      "source": [
        "final_tuples.filter(lambda token: token[0] == 'arthur').collect()"
      ]
    },
    {
      "cell_type": "code",
      "execution_count": null,
      "metadata": {
        "vscode": {
          "languageId": "pyspark"
        },
        "colab": {
          "base_uri": "https://localhost:8080/"
        },
        "id": "60ODkbu9aQeW",
        "outputId": "aa5f5c83-cea6-42cb-e21e-2b1b9356a478"
      },
      "outputs": [
        {
          "output_type": "execute_result",
          "data": {
            "text/plain": [
              "[('uther', ('ND', 2)),\n",
              " ('king', ('ND', 2)),\n",
              " ('long', ('ND', 2)),\n",
              " ('cornwall', ('ND', 2)),\n",
              " ('first', ('ND', 2)),\n",
              " ('igraine', ('ND', 2)),\n",
              " ('told', ('ND', 2)),\n",
              " ('said', ('ND', 2)),\n",
              " ('pendragon', ('ND', 2)),\n",
              " ('duke', ('ND', 2))]"
            ]
          },
          "metadata": {},
          "execution_count": 58
        }
      ],
      "source": [
        "ndRDD.filter(lambda token: token[1][1] == 2).take(10)"
      ]
    },
    {
      "cell_type": "code",
      "execution_count": null,
      "metadata": {
        "vscode": {
          "languageId": "pyspark"
        },
        "colab": {
          "base_uri": "https://localhost:8080/"
        },
        "id": "ZCKtZO1raQeW",
        "outputId": "b5019e32-5a80-4932-81bf-fad2b343f03b"
      },
      "outputs": [
        {
          "output_type": "execute_result",
          "data": {
            "text/plain": [
              "[('arthur', ('TF-I_II', 1)), ('arthur', ('ND', 1))]"
            ]
          },
          "metadata": {},
          "execution_count": 59
        }
      ],
      "source": [
        "tfidfRDD.filter(lambda token: token[0] == 'arthur').collect()"
      ]
    },
    {
      "cell_type": "code",
      "execution_count": null,
      "metadata": {
        "vscode": {
          "languageId": "pyspark"
        },
        "colab": {
          "base_uri": "https://localhost:8080/"
        },
        "id": "2kGzVtksaQeW",
        "outputId": "b7387e85-f579-4090-8c5f-bdb426f82b0d"
      },
      "outputs": [
        {
          "output_type": "execute_result",
          "data": {
            "text/plain": [
              "0.3010299956639812"
            ]
          },
          "metadata": {},
          "execution_count": 60
        }
      ],
      "source": [
        "1 * math.log10(2/1)"
      ]
    },
    {
      "cell_type": "code",
      "source": [
        "tfidfRDD.saveAsTextFile(\"tfidf\")"
      ],
      "metadata": {
        "id": "f6O8EQMPtQ9C"
      },
      "execution_count": null,
      "outputs": []
    },
    {
      "cell_type": "code",
      "execution_count": null,
      "metadata": {
        "vscode": {
          "languageId": "pyspark"
        },
        "id": "_gmxaSUSaQeX"
      },
      "outputs": [],
      "source": [
        "tfidfRDD.coalesce(1,True).saveAsTextFile(\"tfidf2\")"
      ]
    },
    {
      "cell_type": "code",
      "source": [],
      "metadata": {
        "id": "jXtFYGIYYFuj"
      },
      "execution_count": null,
      "outputs": []
    }
  ],
  "metadata": {
    "colab": {
      "provenance": []
    },
    "kernelspec": {
      "display_name": "Python 3",
      "name": "python3"
    },
    "language_info": {
      "name": "python"
    }
  },
  "nbformat": 4,
  "nbformat_minor": 0
}