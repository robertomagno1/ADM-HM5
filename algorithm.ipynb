{
 "cells": [
  {
   "cell_type": "markdown",
   "metadata": {},
   "source": [
    "## **Algorithmic Question :**"
   ]
  },
  {
   "cell_type": "code",
   "execution_count": 1,
   "metadata": {},
   "outputs": [],
   "source": [
    "def find_cheapest_route(n, flights, src, dst, k):\n",
    "    # Create an adjacency list to represent the flight network\n",
    "    graph = [[] for _ in range(n)]\n",
    "    for start, end, price in flights:\n",
    "        graph[start].append((end, price))\n",
    "    \n",
    "    # Initialize a cost tracking mechanism\n",
    "    # This will store: (current_city, stops_used, total_cost)\n",
    "    queue = [(src, 0, 0)]\n",
    "    \n",
    "    # Track minimum cost to reach each city\n",
    "    # Key will be (city, stops_used)\n",
    "    min_costs = {}\n",
    "    \n",
    "    while queue:\n",
    "        # Process current route\n",
    "        current_city, stops, current_cost = queue.pop(0)\n",
    "        \n",
    "        # Check if we've reached destination\n",
    "        if current_city == dst:\n",
    "            # Update minimum cost\n",
    "            return current_cost\n",
    "        \n",
    "        # If we've used too many stops, skip\n",
    "        if stops > k:\n",
    "            continue\n",
    "        \n",
    "        # Explore next possible flights\n",
    "        for next_city, flight_cost in graph[current_city]:\n",
    "            new_cost = current_cost + flight_cost\n",
    "            new_stops = stops + 1\n",
    "            \n",
    "            # Decide whether to add this route\n",
    "            # Key optimization: only add if:\n",
    "            # 1. We haven't seen this route before\n",
    "            # 2. The cost is lower than previous routes\n",
    "    \n",
    "    # If no route found\n",
    "    return -1\n",
    "    "
   ]
  },
  {
   "cell_type": "code",
   "execution_count": 2,
   "metadata": {},
   "outputs": [
    {
     "data": {
      "text/plain": [
       "-1"
      ]
     },
     "execution_count": 2,
     "metadata": {},
     "output_type": "execute_result"
    }
   ],
   "source": [
    "n = 4  \n",
    "flights = [[0, 1, 100], [1, 2, 100], [2, 0, 100], [1, 3, 600], [2, 3, 200]]  \n",
    "src = 0  \n",
    "dst = 3  \n",
    "k = 1  \n",
    "\n",
    "find_cheapest_route(n, flights, src, dst, k)"
   ]
  },
  {
   "cell_type": "code",
   "execution_count": null,
   "metadata": {},
   "outputs": [
    {
     "name": "stdout",
     "output_type": "stream",
     "text": [
      "n=4, src=0, dst=3, k=1: 700\n",
      "n=3, src=0, dst=2, k=1: 200\n",
      "n=3, src=0, dst=2, k=0: 500\n",
      "n=4, src=0, dst=3, k=2: 400\n",
      "n=4, src=0, dst=3, k=2: 400\n"
     ]
    }
   ],
   "source": [
    "from heapq import heappush, heappop\n",
    "\n",
    "def find_cheapest_route(n, flights, src, dst, k):\n",
    "    # Create adjacency list\n",
    "    graph = [[] for _ in range(n)]\n",
    "    for start, end, price in flights:\n",
    "        graph[start].append((end, price))\n",
    "    \n",
    "    # Priority queue to store (total_cost, current_city, stops_remaining)\n",
    "    # We use min heap to always process cheapest routes first\n",
    "    heap = [(0, src, k+1)]\n",
    "    \n",
    "    # Keep track of minimum costs\n",
    "    # Key: (city, remaining_stops)\n",
    "    # Value: minimum cost to reach that city with those remaining stops\n",
    "    min_costs = {}\n",
    "    \n",
    "    while heap:\n",
    "        current_cost, current_city, remaining_stops = heappop(heap)\n",
    "        \n",
    "        # Reached destination\n",
    "        if current_city == dst:\n",
    "            return current_cost\n",
    "        \n",
    "        # No more stops allowed\n",
    "        if remaining_stops <= 0:\n",
    "            continue\n",
    "        \n",
    "        # Explore neighboring cities\n",
    "        for next_city, flight_cost in graph[current_city]:\n",
    "            new_cost = current_cost + flight_cost\n",
    "            new_stops = remaining_stops - 1\n",
    "            \n",
    "            # Key optimization: \n",
    "            # Only add to heap if:\n",
    "            # 1. We haven't seen this (city, stops) combination before\n",
    "            # 2. Or we've found a cheaper route to this city with same/more stops\n",
    "            key = (next_city, new_stops)\n",
    "            if (key not in min_costs or new_cost < min_costs[key]):\n",
    "                min_costs[key] = new_cost\n",
    "                heappush(heap, (new_cost, next_city, new_stops))\n",
    "    \n",
    "    # No route found\n",
    "    return -1"
   ]
  },
  {
   "cell_type": "code",
   "execution_count": 14,
   "metadata": {},
   "outputs": [],
   "source": [
    "from heapq import heappush, heappop\n",
    "\n",
    "def find_best_route(n, flights, src, dst, k):\n",
    "    # create adjacence list \n",
    "    graph = [[] for _ in range(n)]\n",
    "    for start, end, price in flights :\n",
    "        graph[start].append((end, price))\n",
    "\n",
    "    # priority queue to store (total_cost , current_city , stops_remaining)\n",
    "    # we use min heap to always process cheapest routes first\n",
    "    heap = [(0, src, k+1)]\n",
    "\n",
    "    min_cost = {}\n",
    "\n",
    "    while heap:\n",
    "        current_cost, current_city, remaining_stops = heappop(heap)\n",
    "\n",
    "        if current_city == dst :\n",
    "            return current_cost\n",
    "        \n",
    "        if remaining_stops <= 0 :\n",
    "            continue \n",
    "\n",
    "        for next_city , flight_cost in graph[current_city]:\n",
    "            new_cost = current_cost + flight_cost\n",
    "            new_stops = remaining_stops - 1\n",
    "\n",
    "            key = (next_city, new_stops)\n",
    "            if ( key not in min_cost or new_cost < min_cost[key]):\n",
    "                min_cost[key] = new_cost\n",
    "                heappush(heap, (new_cost, next_city, new_stops))\n",
    "    return -1\n"
   ]
  },
  {
   "cell_type": "code",
   "execution_count": null,
   "metadata": {},
   "outputs": [],
   "source": []
  },
  {
   "cell_type": "code",
   "execution_count": null,
   "metadata": {},
   "outputs": [
    {
     "name": "stdout",
     "output_type": "stream",
     "text": [
      "700\n",
      "700\n"
     ]
    }
   ],
   "source": [
    "n = 4  \n",
    "flights = [[0, 1, 100], [1, 2, 100], [2, 0, 100], [1, 3, 600], [2, 3, 200]]  \n",
    "src = 0  \n",
    "dst = 3  \n",
    "k = 1  \n",
    "\n",
    "###\n",
    "\n",
    "print(find_best_route(n, flights, src, dst, k))\n",
    "print(find_cheapest_route(n, flights, src, dst, k))"
   ]
  },
  {
   "cell_type": "code",
   "execution_count": 5,
   "metadata": {},
   "outputs": [
    {
     "data": {
      "text/plain": [
       "200"
      ]
     },
     "execution_count": 5,
     "metadata": {},
     "output_type": "execute_result"
    }
   ],
   "source": [
    "n = 3  \n",
    "flights = [[0, 1, 100], [1, 2, 100], [0, 2, 500]]  \n",
    "src = 0  \n",
    "dst = 2  \n",
    "k = 1  \n",
    "find_cheapest_route(n, flights, src, dst, k)"
   ]
  },
  {
   "cell_type": "code",
   "execution_count": 6,
   "metadata": {},
   "outputs": [
    {
     "data": {
      "text/plain": [
       "500"
      ]
     },
     "execution_count": 6,
     "metadata": {},
     "output_type": "execute_result"
    }
   ],
   "source": [
    "n = 3  \n",
    "flights = [[0, 1, 100], [1, 2, 100], [0, 2, 500]]  \n",
    "src = 0  \n",
    "dst = 2  \n",
    "k = 0  \n",
    "\n",
    "find_cheapest_route(n, flights, src, dst, k)"
   ]
  },
  {
   "cell_type": "code",
   "execution_count": 7,
   "metadata": {},
   "outputs": [
    {
     "data": {
      "text/plain": [
       "400"
      ]
     },
     "execution_count": 7,
     "metadata": {},
     "output_type": "execute_result"
    }
   ],
   "source": [
    "n = 4  \n",
    "flights = [[0, 1, 100], [0, 2, 200], [1, 3, 300], [2, 3, 300]]  \n",
    "src = 0  \n",
    "dst = 3  \n",
    "k = 2  \n",
    "find_cheapest_route(n, flights, src, dst, k)"
   ]
  },
  {
   "cell_type": "code",
   "execution_count": 10,
   "metadata": {},
   "outputs": [
    {
     "data": {
      "text/plain": [
       "400"
      ]
     },
     "execution_count": 10,
     "metadata": {},
     "output_type": "execute_result"
    }
   ],
   "source": [
    "n = 4  \n",
    "flights = [[0, 1, 100], [0, 2, 200], [1, 3, 300], [2, 3, 200]]  \n",
    "src = 0  \n",
    "dst = 3  \n",
    "k = 2  \n",
    "find_cheapest_route(n, flights, src, dst, k)\n"
   ]
  },
  {
   "cell_type": "markdown",
   "metadata": {},
   "source": [
    "### **comprehensive analysis of the algorithm's efficiency:**\n",
    "\n",
    "#### **Time Complexity Analysis:**\n",
    "1. Worst-case Time Complexity: $O(k * n^2)$\n",
    "   - The queue sorting operation takes $O(n log n)$\n",
    "   - Nested loop for exploring flights for each city\n",
    "   - Potential exploration of multiple routes for each city-stop combination\n",
    "\n",
    "#### **Space Complexity Analysis:**\n",
    "1. Worst-case Space Complexity: $O(k * n)$\n",
    "   - Adjacency list: $O(m)$, where m is number of flights\n",
    "   - Distance dictionary:$O(k * n)$\n",
    "   - Queue storage: $O(k * n)$\n",
    "\n",
    "#### Efficiency Evaluation for Large Graphs $(n > 100)$:\n",
    "\n",
    "Limitations:\n",
    "1. Quadratic time complexity becomes problematic\n",
    "   - For $n = 100$, time complexity becomes $O(10,000)$\n",
    "   - Exponential growth with increasing stops $(k)$\n",
    "\n",
    "Performance Bottlenecks:\n",
    "- Repeated route explorations\n",
    "- Sorting queue in each iteration\n",
    "- Storing multiple route variations\n",
    "\n",
    "Inefficiency Indicators:\n",
    "- Becomes computationally expensive for dense graphs\n",
    "- High memory consumption\n",
    "- Slow for real-time routing applications\n",
    "\n",
    "Optimization Strategies:\n",
    "1. Use priority queue instead of list sorting\n",
    "2. Implement more aggressive pruning\n",
    "3. Consider alternative approaches like Dijkstra's with modifications\n",
    "\n",
    "Recommended Improvements:\n",
    "- Use heapq for efficient queue management\n",
    "- Implement early termination conditions\n",
    "- Reduce redundant route explorations\n",
    "\n",
    "Practical Recommendation:\n",
    "- Suitable for small to medium-sized graphs $(n < 50)$\n",
    "- Not recommended for large, complex networks without significant optimization\n",
    "\n",
    "Would you like me to elaborate on any specific aspect of the complexity analysis?"
   ]
  },
  {
   "cell_type": "markdown",
   "metadata": {},
   "source": [
    "#### Let's dive deep into the efficiency for large graphs:\n",
    "\n",
    "Efficiency Analysis for Large Graphs $(n > 100)$:\n",
    "\n",
    "Computational Challenges:\n",
    "1. Algorithmic Complexity\n",
    "   - Current implementation: $O(k * n^2)$\n",
    "   - For $n = 100$, computational steps become massive\n",
    "   - Quadratic growth means exponential time increase\n",
    "\n",
    "2. Memory Constraints\n",
    "   - Stores multiple route variations\n",
    "   - $O(k * n)$ space complexity becomes memory-intensive\n",
    "   - Risk of memory overflow for large graphs\n",
    "\n",
    "Performance Breakdown:\n",
    "- Small Graphs $(n < 50)$: Very Efficient\n",
    "- Medium Graphs $(50 < n < 100)$: Acceptable Performance\n",
    "- Large Graphs $(n > 100)$: Significant Performance Degradation\n",
    "\n",
    "Specific Inefficiencies:\n",
    "- Repeated route calculations\n",
    "- Extensive queue management\n",
    "- Redundant path explorations\n",
    "- High computational overhead\n",
    "\n",
    "Practical Implications:\n",
    "- Real-time routing becomes challenging\n",
    "- Not suitable for large transportation networks\n",
    "- Significant computational time and resource consumption\n",
    "\n",
    "Mitigation Strategies:\n",
    "1. Advanced Pruning Techniques\n",
    "   - Implement more aggressive route filtering\n",
    "   - Early termination of unpromising routes\n",
    "\n",
    "2. Algorithmic Optimizations\n",
    "   - Use priority queue (heapq)\n",
    "   - Implement more efficient graph traversal\n",
    "   - Reduce redundant computations\n",
    "\n",
    "3. Alternative Approaches\n",
    "   - Dijkstra's algorithm with modifications\n",
    "   - A* search algorithm\n",
    "   - Dynamic programming with memoization\n",
    "\n",
    "Recommendation:\n",
    "- Not recommended for graphs with n > 100 without significant optimization\n",
    "- Requires substantial algorithmic redesign for large-scale applications\n",
    "\n",
    "Comparative Efficiency:\n",
    "- Current Algorithm:$O(k * n^2)$\n",
    "- Desired Algorithm: $O(k * n * log(n))$ or better\n",
    "\n",
    "Would you like me to elaborate on potential optimization techniques?"
   ]
  },
  {
   "cell_type": "markdown",
   "metadata": {},
   "source": [
    "## **Optimized approach using Dijkstra's algorithm with a priority queue:**"
   ]
  },
  {
   "cell_type": "markdown",
   "metadata": {},
   "source": []
  },
  {
   "cell_type": "code",
   "execution_count": 22,
   "metadata": {},
   "outputs": [],
   "source": [
    "import heapq\n",
    "\n",
    "def find_cheapest_route_optimized(n, flights, src, dst, k):\n",
    "    # Create adjacency list\n",
    "    graph = [[] for _ in range(n)]\n",
    "    for start, end, price in flights:\n",
    "        graph[start].append((end, price))\n",
    "    \n",
    "    # Priority queue to store (cost, city, stops_remaining)\n",
    "    priotiy_queue = [(0, src, k + 1)]\n",
    "    \n",
    "    # Track visited states to prevent redundant explorations\n",
    "    visited = {}\n",
    "    \n",
    "    while priotiy_queue:\n",
    "        # Extract the cheapest route\n",
    "        current_cost, current_city, stops_left = heapq.heappop(priotiy_queue)\n",
    "        \n",
    "        # Destination reached\n",
    "        if current_city == dst:\n",
    "            return current_cost\n",
    "        \n",
    "        # Skip if this state has been seen with better conditions\n",
    "        state_key = (current_city, stops_left)\n",
    "        if state_key in visited and visited[state_key] <= current_cost:\n",
    "            continue\n",
    "        \n",
    "        # Mark current state\n",
    "        visited[state_key] = current_cost\n",
    "        \n",
    "        # No more stops available\n",
    "        if stops_left == 0:\n",
    "            continue\n",
    "        \n",
    "        # Explore neighboring cities\n",
    "        for next_city, flight_cost in graph[current_city]:\n",
    "            new_cost = current_cost + flight_cost\n",
    "            \n",
    "            # Add to priority queue\n",
    "            heapq.heappush(priotiy_queue, (new_cost, next_city, stops_left - 1))\n",
    "    \n",
    "    # No route found\n",
    "    return -1\n",
    "\n",
    "# Optimization Analysis\n",
    "# Time Complexity: O(k * E * log(V))\n",
    "#   - E: Number of edges (flights)\n",
    "#   - V: Number of vertices (cities)\n",
    "#   - k: Maximum number of stops\n",
    "\n",
    "# Space Complexity: O(V + E)"
   ]
  },
  {
   "cell_type": "code",
   "execution_count": 23,
   "metadata": {},
   "outputs": [
    {
     "name": "stdout",
     "output_type": "stream",
     "text": [
      "700\n",
      "700\n",
      "700\n"
     ]
    }
   ],
   "source": [
    "n = 4  \n",
    "flights = [[0, 1, 100], [1, 2, 100], [2, 0, 100], [1, 3, 600], [2, 3, 200]]  \n",
    "src = 0  \n",
    "dst = 3  \n",
    "k = 1  \n",
    "\n",
    "###\n",
    "\n",
    "print(find_best_route(n, flights, src, dst, k))\n",
    "print(find_cheapest_route(n, flights, src, dst, k))\n",
    "print(find_cheapest_route_optimized(n, flights, src, dst, k))"
   ]
  },
  {
   "cell_type": "markdown",
   "metadata": {},
   "source": [
    "## Pseudocode for the optimied ALGORITHM FindCheapestRouteOptimized(n, flights, src, dst, k)\n",
    "\n",
    "    // Create adjacency list representation of flights\n",
    "    INITIALIZE graph as 2D list with n empty lists\n",
    "    FOR EACH flight IN flights DO\n",
    "        ADD (destination, cost) to graph[source]\n",
    "    \n",
    "    // Priority queue to manage routes\n",
    "    INITIALIZE priorityQueue PQ\n",
    "    PQ.push((0, src, k+1))  // (current_cost, current_city, remaining_stops)\n",
    "    \n",
    "    // Visited state tracking\n",
    "    INITIALIZE visited_states as dictionary\n",
    "    \n",
    "    WHILE PQ is not empty DO\n",
    "        (current_cost, current_city, stops_left) = PQ.pop()\n",
    "        \n",
    "        // Destination reached\n",
    "        IF current_city == dst THEN\n",
    "            RETURN current_cost\n",
    "        \n",
    "        // Avoid redundant explorations\n",
    "        state_key = (current_city, stops_left)\n",
    "        IF state_key exists in visited_states AND \n",
    "           visited_states[state_key] <= current_cost THEN\n",
    "            CONTINUE\n",
    "        \n",
    "        // Update visited states\n",
    "        visited_states[state_key] = current_cost\n",
    "        \n",
    "        // No more stops available\n",
    "        IF stops_left == 0 THEN\n",
    "            CONTINUE\n",
    "        \n",
    "        // Explore neighboring cities\n",
    "        FOR EACH (next_city, flight_cost) IN graph[current_city] DO\n",
    "            new_cost = current_cost + flight_cost\n",
    "            PQ.push((new_cost, next_city, stops_left - 1))\n",
    "    \n",
    "    // No route found\n",
    "    RETURN -1"
   ]
  },
  {
   "cell_type": "markdown",
   "metadata": {},
   "source": [
    "# Time Complexity Analysis of Cheapest Route Algorithm\n",
    "\n",
    "## Algorithmic Complexity Breakdown\n",
    "\n",
    "### 1. Theoretical Complexity\n",
    "- **Notation:** $O(E * log(V) * k)$\n",
    "  - E: Number of Edges (Flights)\n",
    "  - V: Number of Vertices (Cities)\n",
    "  - k: Maximum Number of Stops\n",
    "\n",
    "### 2. Complexity Components\n",
    "\n",
    "| Component | Operation | Complexity | Explanation |\n",
    "|-----------|-----------|------------|-------------|\n",
    "| Graph Creation | Adjacency List | $O(E)$ | Iterate through all flights |\n",
    "| Priority Queue | Insertion/Extraction | $O(log(V))$ | Heap operations |\n",
    "| Route Exploration | Traversal | $O(k)$ | Limited by stop constraints |\n",
    "\n",
    "### 3. Detailed Complexity Analysis\n",
    "\n",
    "python\n",
    "# Time Complexity Visualization\n",
    "def time_complexity_analysis():\n",
    "    # E: Number of flights\n",
    "    # V: Number of cities\n",
    "    # k: Maximum stops\n",
    "    total_complexity = edges * log(cities) * max_stops\n",
    "\n",
    "\n",
    "### 4. Performance Scenarios\n",
    "\n",
    "| Graph Size | Performance | Scalability |\n",
    "|------------|-------------|-------------|\n",
    "| Small $(n < 50)$ | ⭐⭐⭐⭐⭐ | Extremely Efficient |\n",
    "| Medium $(50-100)$ | ⭐⭐⭐⭐ | Very Good |\n",
    "| Large $(n > 100)$ | ⭐⭐⭐ | Good with Optimization |\n",
    "\n",
    "### 5. Computational Breakdown\n",
    "\n",
    "\n",
    "Time Complexity $O(E * log(V) * k)$ means:\n",
    "- Each edge potentially explored\n",
    "- Logarithmic selection of routes\n",
    "- Constrained by maximum stops\n",
    "\n",
    "\n",
    "### 6. Space vs Time Trade-off\n",
    "\n",
    "\n",
    "\\# Space Complexity: $O(V + E + k)$\n",
    "space_usage = cities + flights + max_stops\n",
    "\n",
    "\n",
    "### 7. Big O Notation Comparison\n",
    "\n",
    "| Algorithm | Time Complexity | Efficiency |\n",
    "|-----------|-----------------|------------|\n",
    "| Initial Approach | $O(k * n²)$ | Poor Scaling |\n",
    "| Optimized Approach | $O(E * log(V) * k)$ | Efficient Scaling |\n",
    "\n",
    "### 8. Practical Implications\n",
    "\n",
    "- ✅ Logarithmic route selection\n",
    "- ✅ Constrained by stops\n",
    "- ✅ Efficient for most routing scenarios\n",
    "- ❗ Performance depends on graph density\n",
    "\n",
    "### 9. Optimization Techniques\n",
    "\n",
    "1. Priority Queue Management\n",
    "2. Visited State Memoization\n",
    "3. Early Route Termination\n",
    "4. Intelligent Pruning"
   ]
  },
  {
   "cell_type": "markdown",
   "metadata": {},
   "source": [
    "## LLM optimazied version of the algorithm :: \n"
   ]
  },
  {
   "cell_type": "code",
   "execution_count": 24,
   "metadata": {},
   "outputs": [],
   "source": [
    "import heapq\n",
    "from collections import defaultdict\n",
    "\n",
    "def find_cheapest_route_optimized_v2(n, flights, src, dst, k):\n",
    "    # Create adjacency list\n",
    "    graph = defaultdict(list)\n",
    "    for start, end, price in flights:\n",
    "        graph[start].append((end, price))\n",
    "    \n",
    "    # Priority queue to store (cost, city, stops)\n",
    "    priority_queue = [(0, src, 0)]  # cost, current city, current stops\n",
    "    \n",
    "    # Dictionary to store the minimum cost to reach a city with a given number of stops\n",
    "    min_cost_with_stops = defaultdict(lambda: float('inf'))\n",
    "    min_cost_with_stops[(src, 0)] = 0\n",
    "    \n",
    "    while priority_queue:\n",
    "        current_cost, current_city, current_stops = heapq.heappop(priority_queue)\n",
    "        \n",
    "        # Stop if we reach the destination\n",
    "        if current_city == dst:\n",
    "            return current_cost\n",
    "        \n",
    "        # If stops exceed k, skip processing this path\n",
    "        if current_stops > k:\n",
    "            continue\n",
    "        \n",
    "        # Explore neighbors\n",
    "        for neighbor, flight_cost in graph[current_city]:\n",
    "            new_cost = current_cost + flight_cost\n",
    "            \n",
    "            # Push to the queue only if this path is better\n",
    "            if new_cost < min_cost_with_stops[(neighbor, current_stops + 1)]:\n",
    "                min_cost_with_stops[(neighbor, current_stops + 1)] = new_cost\n",
    "                heapq.heappush(priority_queue, (new_cost, neighbor, current_stops + 1))\n",
    "    \n",
    "    # If no route is found\n",
    "    return -1"
   ]
  },
  {
   "cell_type": "code",
   "execution_count": 25,
   "metadata": {},
   "outputs": [
    {
     "name": "stdout",
     "output_type": "stream",
     "text": [
      "700\n",
      "700\n",
      "700\n"
     ]
    }
   ],
   "source": [
    "n = 4  \n",
    "flights = [[0, 1, 100], [1, 2, 100], [2, 0, 100], [1, 3, 600], [2, 3, 200]]  \n",
    "src = 0  \n",
    "dst = 3  \n",
    "k = 1  \n",
    "\n",
    "###\n",
    "\n",
    "print(find_best_route(n, flights, src, dst, k))\n",
    "print(find_cheapest_route(n, flights, src, dst, k))\n",
    "print(find_cheapest_route_optimized_v2(n, flights, src, dst, k))"
   ]
  },
  {
   "cell_type": "markdown",
   "metadata": {},
   "source": [
    "## Comparison Table\n",
    "\n",
    "| **Criteria**            | **Original Algorithm**                                         | **Optimized Algorithm (v2 - LLM one's)**                          |\n",
    "|--------------------------|---------------------------------------------------------------|-------------------------------------------------------|\n",
    "| **Data Structure**       | Standard adjacency list, `visited` dictionary                | `defaultdict` for adjacency list and tracking states |\n",
    "| **Optimization**         | Checks redundant paths but may explore unnecessary states     | Uses `min_cost_with_stops` to prune unnecessary paths |\n",
    "| **Performance**          | Slightly slower due to redundant states                      | Faster due to better pruning                          |\n",
    "| **Time Complexity**      | $(O(k \\cdot E \\cdot \\log(V))) $                               | $(O(k \\cdot E \\cdot \\log(V))$) (same complexity, but fewer operations) |\n",
    "| **Space Complexity**     | $(O(V + E))$                                            | $(O(V + E)$) (slightly more efficient dictionary usage) |\n",
    "| **Correctness**          | Correct, but potentially less efficient for large graphs      | Correct and handles large graphs better               |"
   ]
  }
 ],
 "metadata": {
  "kernelspec": {
   "display_name": "3.11.6",
   "language": "python",
   "name": "python3"
  },
  "language_info": {
   "codemirror_mode": {
    "name": "ipython",
    "version": 3
   },
   "file_extension": ".py",
   "mimetype": "text/x-python",
   "name": "python",
   "nbconvert_exporter": "python",
   "pygments_lexer": "ipython3",
   "version": "3.11.6"
  }
 },
 "nbformat": 4,
 "nbformat_minor": 2
}
